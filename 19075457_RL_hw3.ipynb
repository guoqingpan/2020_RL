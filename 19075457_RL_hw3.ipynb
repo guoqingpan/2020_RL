{
 "cells": [
  {
   "cell_type": "markdown",
   "metadata": {
    "colab_type": "text",
    "id": "pYs6LMEbNqoQ"
   },
   "source": [
    "# RL homework 3\n",
    "\n",
    "-------------------------------\n",
    "\n",
    "\n",
    "**Name:** Guoqing Pan\n",
    "\n",
    "**SN:** 19075457\n",
    "\n",
    "-----------------------------------\n",
    "\n",
    "\n",
    "**Due date:** *May 13, 2020, 11:00 am*\n",
    "\n",
    "------------------------------------\n",
    "\n",
    "## How to Submit\n",
    "\n",
    "When you have completed the exercises and everything has finsihed running, click on 'File' in the menu-bar and then 'Download .ipynb'. This file must be submitted to Moodle named as **studentnumber_RL_hw3.ipynb** before the deadline above."
   ]
  },
  {
   "cell_type": "markdown",
   "metadata": {
    "colab_type": "text",
    "id": "rNuohp44N00i"
   },
   "source": [
    "# The Assignment\n",
    "\n",
    "### Objectives\n",
    "\n",
    "#### Part 1:\n",
    "You will implement several algorithms to investigate the role of planning in reinforcement learning.\n",
    "\n",
    "#### Part 2:\n",
    "You will be guided through the implementation of a full deep reinforcement learning agent.\n",
    "\n",
    "#### Part 3:\n",
    "You will implement a number of off-policy multi-step return estimates, and answer questions about their accuracy.\n",
    "\n"
   ]
  },
  {
   "cell_type": "markdown",
   "metadata": {
    "colab_type": "text",
    "id": "nVBcO5mAV9Ow"
   },
   "source": [
    "# Setup\n",
    "\n",
    "Run all the cells in this section, but do not modify them."
   ]
  },
  {
   "cell_type": "markdown",
   "metadata": {
    "colab_type": "text",
    "id": "Z1p0fpbxQLyn"
   },
   "source": [
    "## Imports"
   ]
  },
  {
   "cell_type": "code",
   "execution_count": 6,
   "metadata": {
    "colab": {},
    "colab_type": "code",
    "id": "Ps5OnkPmDbMX"
   },
   "outputs": [],
   "source": [
    "import functools\n",
    "import matplotlib.pyplot as plt\n",
    "import numpy as np\n",
    "from collections import namedtuple\n",
    "\n",
    "np.set_printoptions(precision=3, suppress=1)\n",
    "plt.style.use('seaborn-notebook')"
   ]
  },
  {
   "cell_type": "markdown",
   "metadata": {
    "colab_type": "text",
    "id": "eFnvhnKlWN_Z"
   },
   "source": [
    "## Gridworlds"
   ]
  },
  {
   "cell_type": "code",
   "execution_count": 27,
   "metadata": {
    "cellView": "both",
    "colab": {},
    "colab_type": "code",
    "id": "e5VkDWDTWNHE"
   },
   "outputs": [],
   "source": [
    "#@title Implementation\n",
    "class Grid(object):\n",
    "\n",
    "  def __init__(self, discount=0.9):\n",
    "    # -1: wall\n",
    "    # 0: empty, episode continues\n",
    "    # other: number indicates reward, episode will terminate\n",
    "    self._layout = np.array([\n",
    "      [-1, -1, -1, -1, -1, -1, -1, -1, -1, -1],\n",
    "      [-1,  0,  0,  0,  0,  0,  0,  0,  0, -1],\n",
    "      [-1,  0,  0,  0, -1, -1,  0,  0, 10, -1],\n",
    "      [-1,  0,  0,  0, -1, -1,  0,  0,  0, -1],\n",
    "      [-1,  0,  0,  0, -1, -1,  0,  0,  0, -1],\n",
    "      [-1,  0,  0,  0,  0,  0,  0,  0,  0, -1],\n",
    "      [-1,  0,  0,  0,  0,  0,  0,  0,  0, -1],\n",
    "      [-1,  0,  0,  0,  0,  0,  0,  0,  0, -1],\n",
    "      [-1, -1, -1, -1, -1, -1, -1, -1, -1, -1]\n",
    "    ])\n",
    "    self._start_state = (2, 2)\n",
    "    self._goal_state = (8, 2)\n",
    "    self._state = self._start_state\n",
    "    self._number_of_states = np.prod(np.shape(self._layout))\n",
    "    self._discount = discount\n",
    "\n",
    "  @property\n",
    "  def number_of_states(self):\n",
    "      return self._number_of_states\n",
    "    \n",
    "  def plot_grid(self):\n",
    "    plt.figure(figsize=(3, 3))\n",
    "    plt.imshow(self._layout > -1, interpolation=\"nearest\", cmap=\"YlOrRd_r\")     \n",
    "    ax = plt.gca()\n",
    "    ax.grid(0)\n",
    "    plt.xticks([])\n",
    "    plt.yticks([])\n",
    "    plt.title(\"The grid\")\n",
    "    plt.text(\n",
    "        self._start_state[0], self._start_state[1], \n",
    "        r\"$\\mathbf{S}$\", ha='center', va='center')\n",
    "    plt.text(\n",
    "        self._goal_state[0], self._goal_state[1], \n",
    "        r\"$\\mathbf{G}$\", ha='center', va='center')\n",
    "    h, w = self._layout.shape\n",
    "    for y in range(h-3):\n",
    "      plt.plot([+0.5, w-1.5], [y+1.5, y+1.5], '-k', lw=2, alpha=0.5)\n",
    "    for x in range(w-3):\n",
    "      plt.plot([x+1.5, x+1.5], [+0.5, h-1.5], '-k', lw=2, alpha=0.5)\n",
    "\n",
    "  \n",
    "  def get_obs(self):\n",
    "    y, x = self._state\n",
    "    return y*self._layout.shape[1] + x\n",
    "  \n",
    "  def int_to_state(self, int_obs):\n",
    "    x = int_obs % self._layout.shape[1]\n",
    "    y = int_obs // self._layout.shape[1]\n",
    "    return y, x\n",
    "\n",
    "  def step(self, action):\n",
    "    y, x = self._state\n",
    "\n",
    "    if action == 0:  # up\n",
    "      new_state = (y - 1, x)\n",
    "    elif action == 1:  # right\n",
    "      new_state = (y, x + 1)\n",
    "    elif action == 2:  # down\n",
    "      new_state = (y + 1, x)\n",
    "    elif action == 3:  # left\n",
    "      new_state = (y, x - 1)\n",
    "    else:\n",
    "      raise ValueError(\"Invalid action: {} is not 0, 1, 2, or 3.\".format(action))\n",
    "\n",
    "    new_y, new_x = new_state\n",
    "    if self._layout[new_y, new_x] == -1:  # wall\n",
    "      reward = -5.\n",
    "      discount = self._discount\n",
    "      new_state = (y, x)\n",
    "    elif self._layout[new_y, new_x] == 0:  # empty cell\n",
    "      reward = 0.\n",
    "      discount = self._discount\n",
    "    else:  # a goal\n",
    "      reward = self._layout[new_y, new_x]\n",
    "      discount = 0.\n",
    "      new_state = self._start_state\n",
    "    \n",
    "    self._state = new_state\n",
    "    return reward, discount, self.get_obs()\n",
    "  \n",
    "class AltGrid(Grid):\n",
    "  \n",
    "    def __init__(self, discount=0.9):\n",
    "      # -1: wall\n",
    "      # 0: empty, episode continues\n",
    "      # other: number indicates reward, episode will terminate\n",
    "      self._layout = np.array([\n",
    "        [-1, -1, -1, -1, -1, -1, -1, -1, -1, -1],\n",
    "        [-1,  0,  0,  0,  0,  0,  0,  0,  0, -1],\n",
    "        [-1,  0,  0,  0, -1, -1,  0,  0,  0, -1],\n",
    "        [-1,  0,  0,  0, -1, -1,  0,  0,  0, -1],\n",
    "        [-1,  0,  0,  0, -1, -1,  0,  0,  0, -1],\n",
    "        [-1,  0,  0,  0,  0,  0,  0,  0,  0, -1],\n",
    "        [-1,  0,  0,  0,  0,  0,  0,  0,  0, -1],\n",
    "        [-1,  0, 10,  0,  0,  0,  0,  0,  0, -1],\n",
    "        [-1, -1, -1, -1, -1, -1, -1, -1, -1, -1]\n",
    "      ])\n",
    "      self._start_state = (2, 2)\n",
    "      self._goal_state = (2, 7)\n",
    "      self._state = self._start_state\n",
    "      self._number_of_states = np.prod(np.shape(self._layout))\n",
    "      self._discount = discount\n",
    "\n",
    "class FeatureGrid(Grid):\n",
    "  \n",
    "  def get_obs(self):\n",
    "    return self.state_to_features(self._state)\n",
    "  \n",
    "  def state_to_features(self, state):\n",
    "    y, x = state\n",
    "    x /= float(self._layout.shape[1] - 1)\n",
    "    y /= float(self._layout.shape[0] - 1)\n",
    "    markers = np.arange(0.1, 1.0, 0.1)\n",
    "    features = np.array([np.exp(-40*((x - m)**2+(y - n)**2))\n",
    "                         for m in markers\n",
    "                         for n in markers] + [1.])\n",
    "    return features / np.sum(features**2)\n",
    "  \n",
    "  def int_to_features(self, int_state):\n",
    "    return self.state_to_features(self.int_to_state(int_state))\n",
    "  \n",
    "  @property\n",
    "  def number_of_features(self):\n",
    "      return len(self.get_obs())"
   ]
  },
  {
   "cell_type": "code",
   "execution_count": 29,
   "metadata": {
    "cellView": "both",
    "colab": {
     "base_uri": "https://localhost:8080/",
     "height": 722
    },
    "colab_type": "code",
    "id": "zV0NxnIyWVtu",
    "outputId": "bc6562ef-d299-45b7-83ab-45db67cee38e"
   },
   "outputs": [
    {
     "name": "stdout",
     "output_type": "stream",
     "text": [
      "A grid world\n"
     ]
    },
    {
     "data": {
      "image/png": "[encoded data removed]",
      "text/plain": [
       "<Figure size 216x216 with 1 Axes>"
      ]
     },
     "metadata": {},
     "output_type": "display_data"
    },
    {
     "name": "stdout",
     "output_type": "stream",
     "text": [
      "\n",
      "An alternative grid world\n"
     ]
    },
    {
     "data": {
      "image/png": "[encoded data removed]",
      "text/plain": [
       "<Figure size 216x216 with 1 Axes>"
      ]
     },
     "metadata": {},
     "output_type": "display_data"
    },
    {
     "name": "stdout",
     "output_type": "stream",
     "text": [
      "\n",
      "Features (visualised as 9x9 heatmaps) for different locations in the grid\n",
      "(Note: includes unreachable states that coincide with walls in this visualisation.)\n"
     ]
    },
    {
     "data": {
      "image/png": "[encoded data removed]",
      "text/plain": [
       "<Figure size 432x288 with 90 Axes>"
      ]
     },
     "metadata": {},
     "output_type": "display_data"
    }
   ],
   "source": [
    "#@title Show gridworlds\n",
    "\n",
    "# Plot tabular environments\n",
    "grid = Grid()\n",
    "alt_grid = AltGrid()\n",
    "print(\"A grid world\")\n",
    "grid.plot_grid()\n",
    "plt.show()\n",
    "print(\"\\nAn alternative grid world\")\n",
    "alt_grid.plot_grid()\n",
    "plt.show()\n",
    "\n",
    "# Plot features of each state for non tabular version of the environment.\n",
    "print(\n",
    "    \"\\nFeatures (visualised as 9x9 heatmaps) for different locations in the grid\"\n",
    "    \"\\n(Note: includes unreachable states that coincide with walls in this visualisation.)\"\n",
    ")\n",
    "feat_grid = FeatureGrid()\n",
    "shape = feat_grid._layout.shape\n",
    "f, axes = plt.subplots(shape[0], shape[1])\n",
    "for state_idx, ax in enumerate(axes.flatten()):\n",
    "  ax.imshow(np.reshape((feat_grid.int_to_features(state_idx)[:-1]),(9,9)),\n",
    "            interpolation='nearest',\n",
    "            cmap='plasma')\n",
    "  ax.set_xticks([])\n",
    "  ax.set_yticks([])\n",
    "plt.show()"
   ]
  },
  {
   "cell_type": "markdown",
   "metadata": {
    "colab_type": "text",
    "id": "3lpweIqAWBX3"
   },
   "source": [
    "## Helpers"
   ]
  },
  {
   "cell_type": "code",
   "execution_count": 30,
   "metadata": {
    "cellView": "both",
    "colab": {},
    "colab_type": "code",
    "id": "95Ly2AaMWA5e"
   },
   "outputs": [],
   "source": [
    "#@title helper functions (run, but don't modify this cell)\n",
    "\n",
    "def run_experiment(env, agent, number_of_steps):\n",
    "    mean_reward = 0.\n",
    "    try:\n",
    "      action = agent.initial_action()\n",
    "    except AttributeError:\n",
    "      action = 0\n",
    "    for i in range(number_of_steps):\n",
    "      reward, discount, next_state = env.step(action)\n",
    "      action = agent.step(reward, discount, next_state)\n",
    "      mean_reward += (reward - mean_reward)/(i + 1.)\n",
    "\n",
    "    return mean_reward\n",
    "  \n",
    "map_from_action_to_subplot = lambda a: (2, 6, 8, 4)[a]\n",
    "map_from_action_to_name = lambda a: (\"up\", \"right\", \"down\", \"left\")[a]\n",
    "\n",
    "def plot_rewards(xs, rewards, color):\n",
    "  mean = np.mean(rewards, axis=0)\n",
    "  p90 = np.percentile(rewards, 90, axis=0)\n",
    "  p10 = np.percentile(rewards, 10, axis=0)\n",
    "  plt.plot(xs, mean, color=color, alpha=0.6)\n",
    "  plt.fill_between(xs, p90, p10, color=color, alpha=0.3)\n",
    "\n",
    "def plot_values(values, colormap='pink', vmin=-1, vmax=10):\n",
    "  plt.imshow(values, interpolation=\"nearest\", cmap=colormap, vmin=vmin, vmax=vmax)\n",
    "  plt.yticks([])\n",
    "  plt.xticks([])\n",
    "  plt.colorbar(ticks=[vmin, vmax])\n",
    "\n",
    "def plot_state_value(action_values):\n",
    "  q = action_values\n",
    "  fig = plt.figure(figsize=(4, 4))\n",
    "  vmin = np.min(action_values)\n",
    "  vmax = np.max(action_values)\n",
    "  v = 0.9 * np.max(q, axis=-1) + 0.1 * np.mean(q, axis=-1)\n",
    "  plot_values(v, colormap='summer', vmin=vmin, vmax=vmax)\n",
    "  plt.title(\"$v(s)$\")\n",
    "\n",
    "def plot_action_values(action_values):\n",
    "  q = action_values\n",
    "  fig = plt.figure(figsize=(8, 8))\n",
    "  fig.subplots_adjust(wspace=0.3, hspace=0.3)\n",
    "  vmin = np.min(action_values)\n",
    "  vmax = np.max(action_values)\n",
    "  dif = vmax - vmin\n",
    "  for a in [0, 1, 2, 3]:\n",
    "    plt.subplot(3, 3, map_from_action_to_subplot(a))\n",
    "    \n",
    "    plot_values(q[..., a], vmin=vmin - 0.05*dif, vmax=vmax + 0.05*dif)\n",
    "    action_name = map_from_action_to_name(a)\n",
    "    plt.title(r\"$q(s, \\mathrm{\" + action_name + r\"})$\")\n",
    "    \n",
    "  plt.subplot(3, 3, 5)\n",
    "  v = 0.9 * np.max(q, axis=-1) + 0.1 * np.mean(q, axis=-1)\n",
    "  plot_values(v, colormap='summer', vmin=vmin, vmax=vmax)\n",
    "  plt.title(\"$v(s)$\")\n",
    "\n",
    "def parameter_study(parameter_values, parameter_name,\n",
    "  agent_constructor, env_constructor, color, repetitions=10, number_of_steps=int(1e4)):\n",
    "  mean_rewards = np.zeros((repetitions, len(parameter_values)))\n",
    "  greedy_rewards = np.zeros((repetitions, len(parameter_values)))\n",
    "  for rep in range(repetitions):\n",
    "    for i, p in enumerate(parameter_values):\n",
    "      env = env_constructor()\n",
    "      agent = agent_constructor()\n",
    "      if 'eps' in parameter_name:\n",
    "        agent.set_epsilon(p)\n",
    "      elif 'alpha' in parameter_name:\n",
    "        agent._step_size = p\n",
    "      else:\n",
    "        raise NameError(\"Unknown parameter_name: {}\".format(parameter_name))\n",
    "      mean_rewards[rep, i] = run_experiment(grid, agent, number_of_steps)\n",
    "      agent.set_epsilon(0.)\n",
    "      agent._step_size = 0.\n",
    "      greedy_rewards[rep, i] = run_experiment(grid, agent, number_of_steps//10)\n",
    "      del env\n",
    "      del agent\n",
    "\n",
    "  plt.subplot(1, 2, 1)\n",
    "  plot_rewards(parameter_values, mean_rewards, color)\n",
    "  plt.yticks=([0, 1], [0, 1])\n",
    "  plt.ylabel(\"Average reward over first {} steps\".format(number_of_steps), size=12)\n",
    "  plt.xlabel(parameter_name, size=12)\n",
    "\n",
    "  plt.subplot(1, 2, 2)\n",
    "  plot_rewards(parameter_values, greedy_rewards, color)\n",
    "  plt.yticks=([0, 1], [0, 1])\n",
    "  plt.ylabel(\"Final rewards, with greedy policy\".format(number_of_steps), size=12)\n",
    "  plt.xlabel(parameter_name, size=12)\n",
    "  \n",
    "def random_policy(q):\n",
    "  return np.random.randint(4)\n",
    "\n",
    "def epsilon_greedy(q_values, epsilon):\n",
    "  if epsilon < np.random.random():\n",
    "    return np.argmax(q_values)\n",
    "  else:\n",
    "    return np.random.randint(np.array(q_values).shape[-1])\n",
    "\n",
    "def plot_greedy_policy(grid, q):\n",
    "  action_names = [r\"$\\uparrow$\",r\"$\\rightarrow$\", r\"$\\downarrow$\", r\"$\\leftarrow$\"]\n",
    "  greedy_actions = np.argmax(q, axis=2)\n",
    "  grid.plot_grid()\n",
    "  for i in range(9):\n",
    "    for j in range(10):\n",
    "      action_name = action_names[greedy_actions[i,j]]\n",
    "      plt.text(j, i, action_name, ha='center', va='center')\n",
    "\n",
    "def plot_greedy_policy_v2(grid, pi):\n",
    "  action_names = [r\"$\\uparrow$\",r\"$\\rightarrow$\", r\"$\\downarrow$\", r\"$\\leftarrow$\"]\n",
    "  greedy_actions = np.argmax(pi, axis=2)\n",
    "  grid.plot_grid()\n",
    "  h, w = grid._layout.shape\n",
    "  for y in range(2, h-2):\n",
    "    for x in range(2, w-2):\n",
    "      action_name = action_names[greedy_actions[y-2, x-2]]\n",
    "      plt.text(x, y, action_name, ha='center', va='center')"
   ]
  },
  {
   "cell_type": "markdown",
   "metadata": {
    "colab_type": "text",
    "id": "sC3M-IfEq2bI"
   },
   "source": [
    "# Part 1: Planning [50 marks]"
   ]
  },
  {
   "cell_type": "markdown",
   "metadata": {
    "colab_type": "text",
    "id": "nxVB3cCccYO-"
   },
   "source": [
    "## 1.1: Implement Models"
   ]
  },
  {
   "cell_type": "markdown",
   "metadata": {
    "colab_type": "text",
    "id": "j37IiBzpcdB4"
   },
   "source": [
    "### Question 1.1.1\n",
    "**[3 pts]** \n",
    "\n",
    "Implement a trainable **tabular model** of the environment.\n",
    "\n",
    "The model should implement: \n",
    "* a *next_state* method, taking a state and action and returning the next state in the environment.\n",
    "* a *reward* method, taking a state and action and returning the immediate reward associated to executing that action in that state.\n",
    "* a *discount* method, taking a state and action and returning the discount associated to executing that action in that state.\n",
    "* a *transition* method, taking a state and an action and returning both the next state and the reward associated to that transition.\n",
    "* a *update* method, taking a full transition *(state, action, reward, next_state)* and updating the model predictions.\n",
    "\n",
    "Given that the environment is deterministic and tabular the model will reduce to a simple lookup table."
   ]
  },
  {
   "cell_type": "code",
   "execution_count": 43,
   "metadata": {
    "colab": {},
    "colab_type": "code",
    "id": "qzvPua0Sca2o"
   },
   "outputs": [],
   "source": [
    "class TabularModel(object):\n",
    "\n",
    "  def __init__(self, number_of_states, number_of_actions):\n",
    "    self.number_of_states = number_of_states\n",
    "    self.number_of_actions = number_of_actions\n",
    "#     self.sa = np.zeros((number_of_states,number_of_actions,number_of_states)) \n",
    "    self.sa = np.zeros((number_of_states,number_of_actions),dtype='int8') \n",
    "\n",
    "    self.r = np.zeros((number_of_states, number_of_actions),dtype='float32')\n",
    "    self.d = np.zeros((number_of_states, number_of_actions),dtype='float32')\n",
    "\n",
    "  def next_state(self, s, a):\n",
    "\n",
    "    return self.sa[s, a]\n",
    "  \n",
    "  def reward(self, s, a):\n",
    "\n",
    "    return self.r[s, a]\n",
    "\n",
    "  def discount(self, s, a):\n",
    "    return self.d[s, a]\n",
    "  \n",
    "  def transition(self, state, action):\n",
    "    return (\n",
    "        self.reward(state, action), \n",
    "        self.discount(state, action),\n",
    "        self.next_state(state, action))\n",
    "  \n",
    "  def update(self, state, action, reward, discount, next_state):\n",
    "    self.r[state,action] = reward\n",
    "    self.d[state,action] = discount\n",
    "    self.sa[state,action] = next_state"
   ]
  },
  {
   "cell_type": "markdown",
   "metadata": {
    "colab_type": "text",
    "id": "N6p8hNTLcyAK"
   },
   "source": [
    "### Question 1.1.2\n",
    "\n",
    "**[5 pts]** \n",
    "\n",
    "Implement a trainable **linear model** of the environment.\n",
    "\n",
    "The Model should implement: \n",
    "* a *next_state* method, taking a state and action and returning the predicted next state in the environment.\n",
    "* a *reward* method, taking a state and action and returning the predicted immediate reward associated to executing that action in that state.\n",
    "* a *discount* method, taking a state and action and returning the predicted discount associated to executing that action in that state.\n",
    "* a *transition* method, taking a state and an action and returning both the next state and the reward associated to that transition.\n",
    "* a *update* method, taking a full transition *(state, action, reward, next_state)* and updating the model (in its reward, discount and next_state component)\n",
    "\n",
    "For each selected action, the predicted reward $r'$, discount $\\gamma'$ and next state $\\mathbf{s}'$ will all be a linear function of the current state $\\mathbf{s}$.\n",
    "* $\\mathbf{s}' = \\mathbf{M}_a \\mathbf{s}$\n",
    "* $r' = (\\mathbf{m}^r_a)^{\\top} \\mathbf{s}$\n",
    "* $\\gamma' = (\\mathbf{m}^{\\gamma}_a)^{\\top} \\mathbf{s}$\n",
    "\n",
    "Where $\\mathbf{M}_a$ is a matrix of shape $(\\text{number_of_features}, \\text{number_of_features})$, $\\mathbf{m}^r_a$ and $\\mathbf{m}^{\\gamma}_a$ are vectors of shape $(\\text{number_of_features},)$\n",
    "\n",
    "The parameters of all these linear transformations must be trained by stochastic gradient descent. \n",
    "\n",
    "Write down the update to the parameters of the models and implement the update in the model below.\n"
   ]
  },
  {
   "cell_type": "code",
   "execution_count": 78,
   "metadata": {
    "colab": {},
    "colab_type": "code",
    "id": "ab--TR-5c98N"
   },
   "outputs": [],
   "source": [
    "class LinearModel(object):\n",
    "\n",
    "  def __init__(self, number_of_features, number_of_actions):\n",
    "    self.number_of_features = number_of_features\n",
    "    self.number_of_actions = number_of_actions\n",
    "    self.M_s = np.zeros((number_of_actions,number_of_features,number_of_features),dtype='float32')\n",
    "    self.m_r = np.zeros((number_of_actions,number_of_features),dtype='float32')\n",
    "    self.m_g = np.zeros((number_of_actions,number_of_features),dtype='float32')\n",
    "    \n",
    "  def next_state(self, s, a):\n",
    "\n",
    "    return np.dot(self.M_s, s)[a]\n",
    "  \n",
    "  def reward(self, s, a):\n",
    "    return np.dot(self.m_r, s)[a]\n",
    "\n",
    "  def discount(self, s, a):\n",
    "    return np.dot(self.m_g, s)[a]\n",
    "\n",
    "  def transition(self, state, action):\n",
    "    return (\n",
    "        self.reward(state, action),\n",
    "        self.discount(state, action),\n",
    "        self.next_state(state, action))\n",
    "\n",
    "  def update(self, state, action, reward, discount, next_state, step_size=0.1):\n",
    "        \n",
    "    s_p = np.dot(self.M_s[action], state).reshape((self.number_of_features,1))\n",
    "    r_p = np.dot(self.m_r[action], state)\n",
    "    g_p = np.dot(self.m_g[action], state)\n",
    "\n",
    "    self.M_s[action] += step_size * np.dot((next_state.reshape((self.number_of_features,1)) - s_p),state.reshape((1,self.number_of_features)))\n",
    "    self.m_r[action] += step_size * (reward - r_p) * state\n",
    "    self.m_g[action] += step_size * (discount - g_p) * state\n",
    "    \n",
    "    \n",
    "    "
   ]
  },
  {
   "cell_type": "markdown",
   "metadata": {
    "colab_type": "text",
    "id": "fzpb_dGVjT0O"
   },
   "source": [
    "## 1.2: Implement Agents\n",
    "\n",
    "We are going to implement 4 agent:\n",
    "- Tabular Q-learning with Experience Replay\n",
    "- Tabular Dyna-Q with a tabular model\n",
    "- Linear Q-learning with Experience Replay\n",
    "- Linear Dyna-Q with a linear model\n",
    "\n",
    "All agents you implement in this section must share the agent interface below:\n",
    "\n",
    "#### `__init__(self, number_of_actions, number_of_states, initial_observation)`:\n",
    "The constructor will provide the agent the number of actions, number of states, and the initial observation. You can get such initial observation by instatiating an environment (e.g., `grid = Grid()`), and then calling `grid.get_obs()`.\n",
    "\n",
    "#### `step(self, reward, discount, next_observation)`:\n",
    "The step should update the internal values, and return a new action to take. When the discount is zero ($\\text{discount} = \\gamma = 0$), the `next_observation` will be the initial observation of the next episode.  One shouldn't bootstrap on the value of this state, which can simply be guaranteed when using \"$\\gamma \\cdot v(\\text{next_observation})$\" in the update, because $\\gamma = 0$.  So, the end of an episode can be seamlessly handled with the same step function. Note that to perform updates within the `step` function you typically need to store the previous state and/or action: you may set such previous action to 0 in the constructor for consumption in the first step of the first episode of the agent's lifetime.\n",
    " \n",
    "#### `q_values()`:\n",
    "For tabular agents **only**. This method must return a matrix of Q values of shape: (`number_of_states`, `number_of_actions`)\n",
    "\n",
    "#### `q_values(state)`:\n",
    "For agents with function approximation **only**. This method must return an array of Q values of shape: (`number_of_actions`)\n"
   ]
  },
  {
   "cell_type": "markdown",
   "metadata": {
    "colab_type": "text",
    "id": "omzJxb5ds0Iq"
   },
   "source": [
    "### Question 1.2.1\n",
    "\n",
    "**[5 pts]**\n",
    "\n",
    "Implement an agent that uses **Experience Replay** to learn action values, at each step:\n",
    "* select actions randomly\n",
    "* accumulate each observed transition *(s, a, r, s')* in a *replay buffer*,\n",
    "* apply an online Q-learning update with the most recently observed transition,\n",
    "* apply multiple Q-learning updates based on transitions sampled (uniformly) from the *replay buffer* (in addition to the online updates).\n",
    "\n",
    "So, the `step` function of the agent will, conceptually, look as follows:\n",
    "\n",
    "1. Append most recent observed transition $(S_t, A_t, R_{t+1}, \\gamma, S_{t+1})$ to replay buffer\n",
    "\n",
    "1. Update values: $Q(S_t, A_t)$ with Q-learning, using transition $(S_t, A_t, R_{t+1}, \\gamma, S_{t+1})$ \n",
    "\n",
    "1. Loop repeat n times:\n",
    "\n",
    "  1. Sample $S, A, R, \\gamma, S'$ from replay\n",
    "  \n",
    "  1. Update values: $Q(S, A)$ with Q-learning, using transition $(S, A, R, \\gamma, S')$ "
   ]
  },
  {
   "cell_type": "code",
   "execution_count": 46,
   "metadata": {
    "colab": {},
    "colab_type": "code",
    "id": "ae9eAvz4Ncxy"
   },
   "outputs": [],
   "source": [
    "import random"
   ]
  },
  {
   "cell_type": "code",
   "execution_count": 47,
   "metadata": {
    "colab": {},
    "colab_type": "code",
    "id": "TB9e_reb2pJX"
   },
   "outputs": [],
   "source": [
    " class ExperienceQ(object):\n",
    "\n",
    "  def __init__(\n",
    "      self, number_of_states, number_of_actions, initial_state, \n",
    "      behaviour_policy, num_offline_updates=0, step_size=0.1):\n",
    "    \n",
    "    self.number_of_states = number_of_states\n",
    "    self.number_of_actions = number_of_actions\n",
    "    self._state = initial_state\n",
    "    self._action = 0\n",
    "    self.behaviour_policy = behaviour_policy\n",
    "    self.num_offline_updates = num_offline_updates\n",
    "    self._step_size = step_size\n",
    "    self.buffer = []\n",
    "    self.value = np.zeros((number_of_states, number_of_actions),dtype='float32')\n",
    "    \n",
    "  @property\n",
    "  def q_values(self):\n",
    "    return self.value\n",
    "\n",
    "  def step(self, reward, discount, next_state):\n",
    "    s = self._state\n",
    "    a = self._action\n",
    "    r = reward\n",
    "    g = discount\n",
    "    next_s = next_state\n",
    "    self.buffer.append([s,a,r,g,next_s])\n",
    "    self.value[s,a] += self._step_size * (r + g * np.max(self.value[next_s]) - self.value[s,a])\n",
    "    \n",
    "    for _ in range(self.num_offline_updates):\n",
    "        sample_s, sample_a, sample_r, sample_g, sample_next_s = random.sample(self.buffer,1)[0]\n",
    "        self.value[sample_s, sample_a] += self._step_size * (sample_r + sample_g * np.max(self.value[sample_next_s]) - self.value[sample_s, sample_a])\n",
    "    self._action = self.behaviour_policy(self.value[next_s])\n",
    "    self._state = next_state\n",
    "    return self._action"
   ]
  },
  {
   "cell_type": "markdown",
   "metadata": {
    "colab_type": "text",
    "id": "MKfA7ifHvO-M"
   },
   "source": [
    "\n",
    "### Question 1.2.2\n",
    "\n",
    "**[5 pts]**\n",
    "\n",
    "Implement an agent that uses **Dyna-Q** to learn action values.\n",
    "* select actions randomly\n",
    "* accumulate all observed transitions *(s, a, r, s')* in the environment in a *replay buffer*,\n",
    "* apply an online Q-learning to Q-value\n",
    "* apply an update to the *model* based on the latest transition\n",
    "* apply multiple Q-learning updates based on transitions *(s, a, model.reward(s), model.next_state(s))* for some previous state and action pair *(s, a)*.\n",
    "\n",
    "So, the `step` function conceptually looks as follows:\n",
    "1. Append most recent observed transition $(S_t, A_t, R_{t+1}, \\gamma, S_{t+1})$ to replay buffer\n",
    "\n",
    "1. Update values: $Q(S_t, A_t)$ with Q-learning, using transition $(S_t, A_t, R_{t+1}, \\gamma, S_{t+1})$\n",
    "\n",
    "1. Update model: $M(S_t, A_t)$, using transition $(S_t, A_t, R_{t+1}, \\gamma, S_{t+1})$\n",
    "\n",
    "1. Loop repeat n times:\n",
    "\n",
    "  1. Sample $S, A$ from replay\n",
    "  \n",
    "  1. Generate $R, S' = M(S, A)$\n",
    "  \n",
    "  1. Update values: $Q(S, A)$ with Q-learning, using transition $(S, A, R, \\gamma, S')$ "
   ]
  },
  {
   "cell_type": "code",
   "execution_count": 48,
   "metadata": {
    "colab": {},
    "colab_type": "code",
    "id": "WdJgVK6_3Q3-"
   },
   "outputs": [],
   "source": [
    "class DynaQ(object):\n",
    "\n",
    "  def __init__(\n",
    "      self, number_of_states, number_of_actions, initial_state, \n",
    "      behaviour_policy, num_offline_updates=0, step_size=0.1):\n",
    "    \n",
    "    self.number_of_states = number_of_states\n",
    "    self.number_of_actions = number_of_actions\n",
    "    self.num_offline_updates = num_offline_updates\n",
    "    self._state = initial_state\n",
    "    self.behaviour_policy = behaviour_policy\n",
    "    self._step_size = step_size\n",
    "    self._action = 0\n",
    "    \n",
    "\n",
    "    self.buffer = []\n",
    "    self.value = np.zeros((number_of_states, number_of_actions))\n",
    "    self.model = TabularModel(number_of_states, number_of_actions)\n",
    "\n",
    "\n",
    "  @property\n",
    "  def q_values(self):\n",
    "    return self.value\n",
    "\n",
    "  def step(self, reward, discount, next_state):\n",
    "    s = self._state\n",
    "    a = self._action\n",
    "    r = reward\n",
    "    g = discount\n",
    "    next_s = next_state\n",
    "    self.buffer.append([s, a, r, g, next_s])\n",
    "\n",
    "#     model-free\n",
    "    self.value[s,a] += self._step_size * (r + g * np.max(self.value[next_s]) - self.value[s,a])\n",
    "    \n",
    "#     model update\n",
    "    self.model.update(s, a, r, g, next_s)\n",
    "\n",
    "#     model-based planning\n",
    "    for _ in range(self.num_offline_updates):\n",
    "        sample_s, sample_a, _, _, _ = random.sample(self.buffer,1)[0]\n",
    "        sample_r, sample_g, sample_next_s = self.model.transition(sample_s, sample_a)\n",
    "        self.value[sample_s, sample_a] += self._step_size * (sample_r + sample_g * np.max(self.value[sample_next_s]) - self.value[sample_s, sample_a])\n",
    "    self._action = self.behaviour_policy(self.value[next_s])\n",
    "    self._state = next_state\n",
    "    return self._action\n",
    "\n"
   ]
  },
  {
   "cell_type": "markdown",
   "metadata": {
    "colab_type": "text",
    "id": "ra01mmV5VPgm"
   },
   "source": [
    "### Question 1.2.3\n",
    "\n",
    "**[5 pts]**\n",
    "\n",
    "Implement an agent that uses **Experience Replay** to learn action values as a **linear function approximation** over a given set of features.\n",
    "\n",
    "Learn the value estimates via online stochastic gradient descent.  The observed `state` will now be a vector of length `number_of_features`, and the value estimate will be $w_t^\\top x_t$, where $w_t$ are the current weights and $x_t$ is the observed (agent) state at time $t$."
   ]
  },
  {
   "cell_type": "code",
   "execution_count": 49,
   "metadata": {
    "colab": {},
    "colab_type": "code",
    "id": "XOy_bpVa3j6V"
   },
   "outputs": [],
   "source": [
    "class LinearExperienceQ(ExperienceQ):\n",
    "\n",
    "  def __init__(\n",
    "      self, number_of_features, number_of_actions, *args, **kwargs):\n",
    "    super(LinearExperienceQ, self).__init__(\n",
    "        number_of_actions=number_of_actions, *args, **kwargs)\n",
    "    \n",
    "    self.v = np.zeros((number_of_actions,number_of_features),dtype='float32')\n",
    "    \n",
    "    \n",
    "    \n",
    "  def q(self, state):\n",
    "    return np.matmul(self.v,state)\n",
    "    \n",
    "\n",
    "  def step(self, reward, discount, next_state):\n",
    "    s = self._state\n",
    "    a = self._action\n",
    "    r = reward\n",
    "    g = discount\n",
    "    next_s = next_state\n",
    "\n",
    "    self.v[a,:] += self._step_size * (r + g*np.max(np.dot(self.v, next_s)) - np.dot(self.v,s)[a]) * s\n",
    "    self.buffer.append([s, a, r, g, next_s])\n",
    "\n",
    "    for _ in range(self.num_offline_updates):\n",
    "        sample_s, sample_a, sample_r, sample_g, sample_next_s = random.sample(self.buffer,1)[0]\n",
    "        self.v[sample_a,:] += self._step_size * (sample_r + sample_g*np.max(np.dot(self.v, sample_next_s)) - np.dot(self.v,sample_s)[sample_a]) * sample_s\n",
    "    \n",
    "    self._state = next_s\n",
    "    self._action = self.behaviour_policy(np.dot(self.v, next_s))\n",
    "    return self._action\n",
    "    "
   ]
  },
  {
   "cell_type": "markdown",
   "metadata": {
    "colab_type": "text",
    "id": "hlu3YPGAO9ss"
   },
   "source": [
    "### Question 1.2.4\n",
    "\n",
    "**[5 pts]**\n",
    "\n",
    "Implement an agent that uses **Dyna-Q** that uses a **linear function approximation** to represent values as well as for the model of the environment.\n",
    "\n",
    "Represent and learn both the **transition model** and the **reward model** as linear, action-dependent transformations of the given set of features.  The transition and reward models should be represented separately.  Implement separate models for each action (instead of, e.g., passing a one-hot identifier of the action in).\n",
    "\n",
    "Learn value estimates, transition model and reward model via online stochastic gradient descent."
   ]
  },
  {
   "cell_type": "code",
   "execution_count": 50,
   "metadata": {
    "colab": {},
    "colab_type": "code",
    "id": "1RxFwgIU39dI"
   },
   "outputs": [],
   "source": [
    "class LinearDynaQ(DynaQ):\n",
    "\n",
    "  def __init__(self, number_of_features, number_of_actions, *args, **kwargs):\n",
    "    super(LinearDynaQ, self).__init__(\n",
    "        number_of_actions=number_of_actions, *args, **kwargs)\n",
    "    self.v = np.zeros((number_of_actions,number_of_features),dtype='float32')\n",
    "    self.model = LinearModel(number_of_features, number_of_actions)\n",
    "\n",
    "    \n",
    "  def q(self, state):\n",
    "    return np.dot(self.v,state)\n",
    "\n",
    "  def step(self, reward, discount, next_state):\n",
    "    s = self._state\n",
    "    a = self._action\n",
    "    r = reward\n",
    "    g = discount\n",
    "    next_s = next_state\n",
    "    \n",
    "#     model update\n",
    "    self.model.update(s, a, r, g, next_s)\n",
    "    \n",
    "#     model-free \n",
    "    self.v[a,:] += self._step_size * (r + g*np.max(np.dot(self.v, next_s)) - np.dot(self.v,s)[a]) * s\n",
    "    self.buffer.append([s, a, r, g, next_s])\n",
    "    for _ in range(self.num_offline_updates):\n",
    "        sample_s, sample_a, _, _, _ = random.sample(self.buffer,1)[0]\n",
    "        sample_r, sample_g, sample_next_s = self.model.transition(sample_s,sample_a)\n",
    "        self.v[sample_a,:] += self._step_size * (sample_r + sample_g*np.max(np.dot(self.v, sample_next_s)) - np.dot(self.v,sample_s)[sample_a]) * sample_s\n",
    "    \n",
    "    self._state = next_s\n",
    "    self._action = self.behaviour_policy(np.dot(self.v, next_s))\n",
    "    return self._action\n"
   ]
  },
  {
   "cell_type": "markdown",
   "metadata": {
    "colab_type": "text",
    "id": "1jZsPzCmDxAh"
   },
   "source": [
    "## 1.3: Analyse Results\n",
    "\n",
    "You will have to analyse experiments that evaluate each of these 5 agents in various settings, and in terms of different metrics.\n",
    "\n",
    "- Tabular learning: data efficiency\n",
    "- Tabular learning: computational efficiency\n",
    "- Linear function approximation\n",
    "- Learning in non-stationary environments"
   ]
  },
  {
   "cell_type": "markdown",
   "metadata": {
    "colab_type": "text",
    "id": "qekcmj4R5Y6J"
   },
   "source": [
    "### Run data efficiency experiments\n",
    "\n",
    "*Online Q-learning*\n",
    "\n",
    "* $\\text{number_of_steps}$ = $2000$ and $\\text{num_offline_updates}$ = $0$\n",
    "\n",
    "*Experience Replay*\n",
    "\n",
    "* $\\text{number_of_steps}$ = $2000$ and $\\text{num_offline_updates}$ = $30$\n",
    "\n",
    "*DynaQ*\n",
    "\n",
    "* $\\text{number_of_steps}$ = $2000$ and $\\text{num_offline_updates}$ = $30$"
   ]
  },
  {
   "cell_type": "code",
   "execution_count": 13,
   "metadata": {
    "colab": {
     "base_uri": "https://localhost:8080/",
     "height": 476
    },
    "colab_type": "code",
    "id": "Iix-yw-MKS4Y",
    "outputId": "c73c9595-bfc2-4c9c-eea2-664323b8a95a"
   },
   "outputs": [
    {
     "data": {
      "image/png": "[encoded data removed]",
      "text/plain": [
       "<Figure size 576x576 with 10 Axes>"
      ]
     },
     "metadata": {
      "needs_background": "light",
      "tags": []
     },
     "output_type": "display_data"
    }
   ],
   "source": [
    "# Online Q\n",
    "grid = Grid()\n",
    "agent = ExperienceQ(\n",
    "  grid._layout.size, 4, grid.get_obs(),\n",
    "  random_policy, num_offline_updates=0, step_size=0.1)\n",
    "run_experiment(grid, agent, int(2e3))\n",
    "q = agent.q_values.reshape(grid._layout.shape + (4,))\n",
    "plot_action_values(q)"
   ]
  },
  {
   "cell_type": "code",
   "execution_count": 90,
   "metadata": {
    "colab": {
     "base_uri": "https://localhost:8080/",
     "height": 476
    },
    "colab_type": "code",
    "id": "VL6mYnRNNczW",
    "outputId": "1ba46526-d7d8-4418-9c16-362f88af0be2"
   },
   "outputs": [
    {
     "data": {
      "image/png": "[encoded data removed]",
      "text/plain": [
       "<Figure size 576x576 with 10 Axes>"
      ]
     },
     "metadata": {
      "needs_background": "light"
     },
     "output_type": "display_data"
    }
   ],
   "source": [
    "# Experience Replay\n",
    "grid = Grid()\n",
    "agent = ExperienceQ(\n",
    "  grid._layout.size, 4, grid.get_obs(),\n",
    "  random_policy, num_offline_updates=30, step_size=0.1)\n",
    "run_experiment(grid, agent, int(2e3))\n",
    "q = agent.q_values.reshape(grid._layout.shape + (4,))\n",
    "plot_action_values(q)"
   ]
  },
  {
   "cell_type": "code",
   "execution_count": 24,
   "metadata": {
    "colab": {
     "base_uri": "https://localhost:8080/",
     "height": 476
    },
    "colab_type": "code",
    "id": "YG-_cjw-wRzm",
    "outputId": "b362f019-a0ce-4e91-e176-e15689d94b49"
   },
   "outputs": [
    {
     "data": {
      "image/png": "[encoded data removed]",
      "text/plain": [
       "<Figure size 576x576 with 10 Axes>"
      ]
     },
     "metadata": {
      "needs_background": "light",
      "tags": []
     },
     "output_type": "display_data"
    }
   ],
   "source": [
    "# DynaQ\n",
    "grid = Grid()\n",
    "agent = DynaQ(\n",
    "  grid._layout.size, 4, grid.get_obs(),\n",
    "  random_policy, num_offline_updates=30, step_size=0.1)\n",
    "run_experiment(grid, agent, int(2e3))\n",
    "q = agent.q_values.reshape(grid._layout.shape + (4,))\n",
    "plot_action_values(q)"
   ]
  },
  {
   "cell_type": "markdown",
   "metadata": {
    "colab_type": "text",
    "id": "teXnSHqjGfoT"
   },
   "source": [
    "### Question 1.3.1\n",
    "\n",
    "**[3 pts]**\n",
    "\n",
    "In the experiments above, how do the learnt value estimates differ between the online Q-learning, ExperienceReplay, and Dyna Q agents?\n",
    "\n",
    "Explain meaningful differences in at most 5 sentences.\n",
    "\n",
    "> *The data efficiency and value estimate performance ranking for these 3 algortighms is: Dyna Q = ExperienceReplay > online Q-learning. In 2000 steps in environment, DynaQ and ExperienceReplay could learn the value estimate for most of states or (states, action) pairs, while online Q-learning learn only several values estimate. It is obvious that online learning needs more steps in environment to achieve similar performance as other two.*\n",
    "\n",
    "> *Because the 30 steps off-lines updates, ExperienceReplay and Dyna have 60000 more times of update on value estimate and could make fuller use of the 2000 steps of experience from interaction with environment than online Qlearning.*\n"
   ]
  },
  {
   "cell_type": "markdown",
   "metadata": {
    "colab_type": "text",
    "id": "ujZNsXFY52fi"
   },
   "source": [
    "### Run experiments matching computational cost\n",
    "\n",
    "*Online Q-learning*\n",
    "\n",
    "* $\\text{number_of_steps}$ = $62,000$ and $\\text{num_offline_updates}$ = $0$\n",
    "\n",
    "*ExperienceReplay*\n",
    "\n",
    "* $\\text{number_of_steps}$ = $2000$ and $\\text{num_offline_updates}$ = $30$\n",
    "\n",
    "*DynaQ*\n",
    "\n",
    "* $\\text{number_of_steps}$ = $2000$ and $\\text{num_offline_updates}$ = $30$"
   ]
  },
  {
   "cell_type": "code",
   "execution_count": 35,
   "metadata": {
    "colab": {
     "base_uri": "https://localhost:8080/",
     "height": 476
    },
    "colab_type": "code",
    "id": "OVVWtGoUwiAe",
    "outputId": "d1a4173f-0f2a-4588-93ec-57c00acc2fd1"
   },
   "outputs": [
    {
     "data": {
      "image/png": "[encoded data removed]",
      "text/plain": [
       "<Figure size 576x576 with 10 Axes>"
      ]
     },
     "metadata": {
      "needs_background": "light",
      "tags": []
     },
     "output_type": "display_data"
    }
   ],
   "source": [
    "# OnlineQ\n",
    "grid = Grid()\n",
    "agent = ExperienceQ(\n",
    "  grid._layout.size, 4, grid.get_obs(),\n",
    "  random_policy, num_offline_updates=0, step_size=0.1)\n",
    "run_experiment(grid, agent, int(62e3))\n",
    "q = agent.q_values.reshape(grid._layout.shape + (4,))\n",
    "plot_action_values(q)"
   ]
  },
  {
   "cell_type": "code",
   "execution_count": 28,
   "metadata": {
    "colab": {
     "base_uri": "https://localhost:8080/",
     "height": 476
    },
    "colab_type": "code",
    "id": "PuoUs8xVxady",
    "outputId": "ea5069c3-0e0e-4337-cd37-b1f6bf874012"
   },
   "outputs": [
    {
     "data": {
      "image/png": "[encoded data removed]",
      "text/plain": [
       "<Figure size 576x576 with 10 Axes>"
      ]
     },
     "metadata": {
      "needs_background": "light",
      "tags": []
     },
     "output_type": "display_data"
    }
   ],
   "source": [
    "# Experience Replay\n",
    "grid = Grid()\n",
    "agent = ExperienceQ(\n",
    "  grid._layout.size, 4, grid.get_obs(),\n",
    "  random_policy, num_offline_updates=30, step_size=0.1)\n",
    "run_experiment(grid, agent, int(2e3))\n",
    "q = agent.q_values.reshape(grid._layout.shape + (4,))\n",
    "plot_action_values(q)"
   ]
  },
  {
   "cell_type": "code",
   "execution_count": 29,
   "metadata": {
    "colab": {
     "base_uri": "https://localhost:8080/",
     "height": 476
    },
    "colab_type": "code",
    "id": "hDOW4dd221L6",
    "outputId": "ed523338-8e28-4f7d-a786-1b654b014594"
   },
   "outputs": [
    {
     "data": {
      "image/png": "[encoded data removed]",
      "text/plain": [
       "<Figure size 576x576 with 10 Axes>"
      ]
     },
     "metadata": {
      "needs_background": "light",
      "tags": []
     },
     "output_type": "display_data"
    }
   ],
   "source": [
    "# DynaQ\n",
    "grid = Grid()\n",
    "agent = DynaQ(\n",
    "  grid._layout.size, 4, grid.get_obs(),\n",
    "  random_policy, num_offline_updates=30, step_size=0.1)\n",
    "run_experiment(grid, agent, int(2e3))\n",
    "q = agent.q_values.reshape(grid._layout.shape + (4,))\n",
    "plot_action_values(q)"
   ]
  },
  {
   "cell_type": "markdown",
   "metadata": {
    "colab_type": "text",
    "id": "nlFwZeKjLFEq"
   },
   "source": [
    "What if sampling from the environment is cheap and we don't care about data efficiency but only care about the amount of computation we use? \n",
    "\n",
    "The experiments directly above are the same as those above question 1.3.1, except that we ran the experiments for the same number of **total updates**, rather than the same number of **steps in the environment**, therefore using more data for the online Q-learning algorithm which *only* updates from real data.\n",
    "\n",
    "### Question 1.3.2\n",
    "\n",
    "**[3 pts]**\n",
    "\n",
    "How do the learnt values, and the relative performances, change, compared to the experiment above question 1.3.1?  Explain in at most 5 sentences.\n",
    "\n",
    "> *With same number of updates, the performance ranking becomes Online Q-leanring > DynaQ = ExperienceReplay. For online Q-learning, the data of 6200 steps are purely from environment which is far more diversed than the data in the other two algorithms. The data for DynaQ and ExperienceReplay compose of 2000 steps from environment and 6000 steps sample from these 2000 real steps which give less information (on combination of (s_t, a_t, g_t, r_{t+1}, s_{t+1}) ) for value estimate updates than 6200 real steps from environment.*\n",
    "\n",
    "> *Furthermore, to learn a model of environment and then updates value based on the model cost extra computation, compared to direct learning values from environment.*"
   ]
  },
  {
   "cell_type": "markdown",
   "metadata": {
    "colab_type": "text",
    "id": "GBLluo2AXMsH"
   },
   "source": [
    "### Run experiments with linear function approximation\n",
    "\n",
    "We will now use the $\\text{FeatureGrid}$ domain, and consider the same 3 algorithms in the context of linear function approximation.\n",
    "\n",
    "*Online Q-learning*\n",
    "\n",
    "* $\\text{number_of_steps}$ = $100,000$ and $\\text{num_offline_updates}$ = $0$\n",
    "\n",
    "*ExperienceReplay*\n",
    "\n",
    "* $\\text{number_of_steps}$ = $100,000$ and $\\text{num_offline_updates}$ = $10$\n",
    "\n",
    "*DynaQ*\n",
    "\n",
    "* $\\text{number_of_steps}$ = $100,000$ and $\\text{num_offline_updates}$ = $10$"
   ]
  },
  {
   "cell_type": "code",
   "execution_count": 87,
   "metadata": {
    "colab": {
     "base_uri": "https://localhost:8080/",
     "height": 660
    },
    "colab_type": "code",
    "id": "zwlRPm1uXMyv",
    "outputId": "599fdcd9-6200-4ca1-8987-494e8517ee41"
   },
   "outputs": [
    {
     "data": {
      "image/png": "[encoded data removed]",
      "text/plain": [
       "<Figure size 576x576 with 10 Axes>"
      ]
     },
     "metadata": {
      "needs_background": "light"
     },
     "output_type": "display_data"
    },
    {
     "data": {
      "image/png": "[encoded data removed]",
      "text/plain": [
       "<Figure size 216x216 with 1 Axes>"
      ]
     },
     "metadata": {},
     "output_type": "display_data"
    }
   ],
   "source": [
    "# OnlineQ\n",
    "grid = FeatureGrid()\n",
    "\n",
    "agent = LinearExperienceQ(\n",
    "  number_of_features=grid.number_of_features, number_of_actions=4,\n",
    "  number_of_states=grid._layout.size, initial_state=grid.get_obs(),\n",
    "  num_offline_updates=0, step_size=0.01, behaviour_policy=random_policy)\n",
    "run_experiment(grid, agent, int(1e5))\n",
    "q = np.reshape(\n",
    "    np.array([agent.q(grid.int_to_features(i))\n",
    "              for i in range(grid.number_of_states)]),\n",
    "    [grid._layout.shape[0], grid._layout.shape[1], 4])\n",
    "\n",
    "plot_action_values(q)\n",
    "plot_greedy_policy(grid, q)"
   ]
  },
  {
   "cell_type": "code",
   "execution_count": 82,
   "metadata": {
    "colab": {
     "base_uri": "https://localhost:8080/",
     "height": 660
    },
    "colab_type": "code",
    "id": "Wb6XeKzXcIsi",
    "outputId": "776f92a4-4284-4cf9-c018-4f92dce8a02c"
   },
   "outputs": [
    {
     "data": {
      "image/png": "[encoded data removed]",
      "text/plain": [
       "<Figure size 576x576 with 10 Axes>"
      ]
     },
     "metadata": {
      "needs_background": "light"
     },
     "output_type": "display_data"
    },
    {
     "data": {
      "image/png": "[encoded data removed]",
      "text/plain": [
       "<Figure size 216x216 with 1 Axes>"
      ]
     },
     "metadata": {},
     "output_type": "display_data"
    }
   ],
   "source": [
    "# Experience Replay\n",
    "grid = FeatureGrid()\n",
    "\n",
    "agent = LinearExperienceQ(\n",
    "  number_of_features=grid.number_of_features, number_of_actions=4,\n",
    "  number_of_states=grid._layout.size, initial_state=grid.get_obs(),\n",
    "  num_offline_updates=10, step_size=0.01, behaviour_policy=random_policy)\n",
    "run_experiment(grid, agent, int(1e5))\n",
    "q = np.reshape(\n",
    "    np.array([agent.q(grid.int_to_features(i))\n",
    "              for i in range(grid.number_of_states)]),\n",
    "    [grid._layout.shape[0], grid._layout.shape[1], 4])\n",
    "plot_action_values(q)\n",
    "plot_greedy_policy(grid, q)"
   ]
  },
  {
   "cell_type": "code",
   "execution_count": 91,
   "metadata": {
    "colab": {
     "base_uri": "https://localhost:8080/",
     "height": 201
    },
    "colab_type": "code",
    "id": "DVDRVknH1MXw",
    "outputId": "f5312f89-a652-4636-97c1-13f7e7402e9b"
   },
   "outputs": [
    {
     "data": {
      "image/png": "[encoded data removed]",
      "text/plain": [
       "<Figure size 576x576 with 10 Axes>"
      ]
     },
     "metadata": {
      "needs_background": "light"
     },
     "output_type": "display_data"
    },
    {
     "data": {
      "image/png": "[encoded data removed]",
      "text/plain": [
       "<Figure size 216x216 with 1 Axes>"
      ]
     },
     "metadata": {},
     "output_type": "display_data"
    }
   ],
   "source": [
    "# DynaQ\n",
    "grid = FeatureGrid()\n",
    "\n",
    "agent = LinearDynaQ(\n",
    "  number_of_features=grid.number_of_features, \n",
    "  number_of_actions=4,\n",
    "  number_of_states=grid._layout.size, \n",
    "  initial_state=grid.get_obs(),\n",
    "  num_offline_updates=10, \n",
    "  step_size=0.01,\n",
    "  behaviour_policy=random_policy)\n",
    "\n",
    "run_experiment(grid, agent, int(1e5))\n",
    "q = np.reshape(\n",
    "    np.array([agent.q(grid.int_to_features(i))\n",
    "              for i in range(grid.number_of_states)]),\n",
    "    [grid._layout.shape[0], grid._layout.shape[1], 4])\n",
    "plot_action_values(q)\n",
    "plot_greedy_policy(grid, q)"
   ]
  },
  {
   "cell_type": "markdown",
   "metadata": {
    "colab_type": "text",
    "id": "1ese1lc0yNFU"
   },
   "source": [
    "### Question 1.3.3\n",
    "\n",
    "**[3 pts]**\n",
    "\n",
    "How do the value estimates learnt with function approximation differ from those learnt in the tabular setting, as in the experiment above question 2.2.1?\n",
    "\n",
    "Explain the results in at most 5 sentences.\n",
    "\n",
    "> *Function approximation has the advangtage of generalization on value of unseen states. Here, the states are represented as feature vectors and linear approximations to give state and action values are learnt. The wall and goal states have never be seen in learning and in tabular setting the value in these states left as zero. However, while experience just a subset of whole grid space, function approximation could generate a well approximation over a larger grid space than tabular setting, including goal and wall states. *\n",
    "\n",
    "### Question 1.3.4\n",
    "\n",
    "**[3 pts]**\n",
    "\n",
    "Inspect the policies derived by training agents with linear function approximation on `FeatureGrid'. \n",
    "\n",
    "How do they compare to the optimal policy?\n",
    "\n",
    "> *Still a bit away from optimal policy and could be hesitant about the route. For example, they may be stuck at the start location or hesitate to go into the goal.*"
   ]
  },
  {
   "cell_type": "markdown",
   "metadata": {
    "colab_type": "text",
    "id": "arP0Nf0XUGrB"
   },
   "source": [
    "### Run experiments in a non stationary environments\n",
    "\n",
    "We now consider a non-stationary setting where after `pretrain_steps` in the environment, the goal is moved to a new location (from the top-right of the grid to the bottom-left). The agent is allowed to continue training for a (shorter) amount of time in this new setting, and then we evaluate the value estimates.\n",
    "\n",
    "*Online Q-learning*\n",
    "\n",
    "* $\\text{pretrain_steps}$ = $20,000$,  $\\text{num_steps}$ = $666$, and $\\text{num_offline_updates}$ = $0$\n",
    "\n",
    "*ExperienceReplay*\n",
    "\n",
    "* $\\text{pretrain_steps}$ = $20,000$,  $\\text{num_steps}$ = $666$ and $\\text{num_offline_updates}$ = $10$\n",
    "\n",
    "*DynaQ*\n",
    "\n",
    "* $\\text{pretrain_steps}$ = $20,000$,  $\\text{num_steps}$ = $666$ and $\\text{num_offline_updates}$ = $10$"
   ]
  },
  {
   "cell_type": "code",
   "execution_count": 30,
   "metadata": {
    "colab": {
     "base_uri": "https://localhost:8080/",
     "height": 499
    },
    "colab_type": "code",
    "id": "6P9lC323X7uH",
    "outputId": "5d41313f-bd40-4af9-d5f3-fee8308e960b"
   },
   "outputs": [
    {
     "data": {
      "image/png": "[encoded data removed]",
      "text/plain": [
       "<Figure size 288x288 with 2 Axes>"
      ]
     },
     "metadata": {
      "needs_background": "light"
     },
     "output_type": "display_data"
    },
    {
     "data": {
      "image/png": "[encoded data removed]",
      "text/plain": [
       "<Figure size 288x288 with 2 Axes>"
      ]
     },
     "metadata": {
      "needs_background": "light"
     },
     "output_type": "display_data"
    }
   ],
   "source": [
    "# Online Q\n",
    "\n",
    "# Train on first environment\n",
    "pretrain_steps = 2e4\n",
    "grid = Grid()\n",
    "agent = ExperienceQ(\n",
    "  grid._layout.size, 4, grid.get_obs(),\n",
    "  random_policy, num_offline_updates=0, step_size=0.1)\n",
    "run_experiment(grid, agent, int(pretrain_steps))\n",
    "q = agent.q_values.reshape(grid._layout.shape + (4,))\n",
    "plot_state_value(q)\n",
    "# Change goal location\n",
    "alt_grid = AltGrid()\n",
    "run_experiment(alt_grid, agent, int(pretrain_steps/30 ))\n",
    "alt_q = agent.q_values.reshape(alt_grid._layout.shape + (4,))\n",
    "plot_state_value(alt_q)"
   ]
  },
  {
   "cell_type": "code",
   "execution_count": 34,
   "metadata": {
    "colab": {
     "base_uri": "https://localhost:8080/",
     "height": 499
    },
    "colab_type": "code",
    "id": "bq5msw1iY-Q5",
    "outputId": "d585a5ae-4763-488c-a479-fbfa16338fc9"
   },
   "outputs": [
    {
     "data": {
      "image/png": "[encoded data removed]",
      "text/plain": [
       "<Figure size 288x288 with 2 Axes>"
      ]
     },
     "metadata": {
      "needs_background": "light"
     },
     "output_type": "display_data"
    },
    {
     "data": {
      "image/png": "[encoded data removed]",
      "text/plain": [
       "<Figure size 288x288 with 2 Axes>"
      ]
     },
     "metadata": {
      "needs_background": "light"
     },
     "output_type": "display_data"
    }
   ],
   "source": [
    "# Experience Replay\n",
    "\n",
    "# Train on first environment\n",
    "pretrain_steps = 2e4\n",
    "grid = Grid()\n",
    "agent = ExperienceQ(\n",
    "  grid._layout.size, 4, grid.get_obs(),\n",
    "  random_policy, num_offline_updates=30, step_size=0.1)\n",
    "run_experiment(grid, agent, int(pretrain_steps))\n",
    "q = agent.q_values.reshape(grid._layout.shape + (4,))\n",
    "plot_state_value(q)\n",
    "# Change goal location\n",
    "alt_grid = AltGrid()\n",
    "run_experiment(alt_grid, agent, int(pretrain_steps /30 ))\n",
    "alt_q = agent.q_values.reshape(alt_grid._layout.shape + (4,))\n",
    "plot_state_value(alt_q)"
   ]
  },
  {
   "cell_type": "code",
   "execution_count": 0,
   "metadata": {
    "colab": {
     "base_uri": "https://localhost:8080/",
     "height": 499
    },
    "colab_type": "code",
    "id": "AwztU4EbUXe0",
    "outputId": "e09affb5-711b-4c86-9ceb-98928f13bc19"
   },
   "outputs": [
    {
     "data": {
      "image/png": "[encoded data removed]",
      "text/plain": [
       "<Figure size 288x288 with 2 Axes>"
      ]
     },
     "metadata": {
      "needs_background": "light",
      "tags": []
     },
     "output_type": "display_data"
    },
    {
     "data": {
      "image/png": "[encoded data removed]",
      "text/plain": [
       "<Figure size 288x288 with 2 Axes>"
      ]
     },
     "metadata": {
      "needs_background": "light",
      "tags": []
     },
     "output_type": "display_data"
    }
   ],
   "source": [
    "# DynaQ\n",
    "\n",
    "# Train on first environment\n",
    "pretrain_steps = 2e4\n",
    "grid = Grid()\n",
    "agent = DynaQ(\n",
    "  grid._layout.size, 4, grid.get_obs(),\n",
    "  random_policy, num_offline_updates=30, step_size=0.1)\n",
    "run_experiment(grid, agent, int(pretrain_steps))\n",
    "q = agent.q_values.reshape(grid._layout.shape + (4,))\n",
    "plot_state_value(q)\n",
    "\n",
    "# Change goal location\n",
    "alt_grid = AltGrid()\n",
    "run_experiment(alt_grid, agent, int(pretrain_steps / 30))\n",
    "alt_q = agent.q_values.reshape(alt_grid._layout.shape + (4,))\n",
    "plot_state_value(alt_q)"
   ]
  },
  {
   "cell_type": "markdown",
   "metadata": {
    "colab_type": "text",
    "id": "lc8tJPpXyNM7"
   },
   "source": [
    "### Question 1.3.5\n",
    "\n",
    "**[5 pts]**\n",
    "\n",
    "Compare the value estimates of online Q-learning and Dyna-Q, after training also on the new goal location.\n",
    "\n",
    "Explain what you see in at most 5 sentences. \n",
    "\n",
    "> *DynaQ performs better than online Q-learning in value estimates after the changepoint. After the changepoint, online Q-learning updates the state values for 666 times, while DynaQ 666 * (30+1) = 20646 times. Once DynaQ recieve the different rewards around orgianl(new) goal location, it directly update the tabular model, i.e. q values for these (states, action) pairs around orgianl(new) goal locations. Once model is updated, in offline update, DynaQ could update state value towards the new setting 30 more times with updated model, than online Q-leanring.*\n",
    "\n",
    "### Question 1.3.6\n",
    "\n",
    "**[5 pts]**\n",
    "\n",
    "Compare the value estimates of online Experience Replay and Dyna-Q, after training also on the new goal location, explain what you see.\n",
    "\n",
    "> *ExperienceReplay works worse. After the 20000 pretrained step, both DynaQ and ExperienceReplay have learned the shorter way to visit old goal location without wandering around. Even after the changepoint, they will first hit the old goal and update its value which haven't been update in pretrain. Once the offline updates sample the data related to the new goal, DynaQ directly replace the old values with new value while in ExperienceReplay new value is added to the buffer. The proportion of new values is small in buffer because of the 20000 pretrained steps. DynaQ could offline update values with new setting while Experience Replay may still updates with the mixture of new and old records.*\n"
   ]
  },
  {
   "cell_type": "markdown",
   "metadata": {
    "colab_type": "text",
    "id": "7TYEJzjdBD8s"
   },
   "source": [
    "# Part 2: Deep RL [25 marks]"
   ]
  },
  {
   "cell_type": "markdown",
   "metadata": {
    "colab_type": "text",
    "id": "iIRC73HLq6VH"
   },
   "source": [
    "### Actor-critics\n",
    "\n",
    "You are going to implement an Actor-critic agent that updates a policy parametrised as a deep neural network.\n",
    "\n",
    "The agent learns online from a single stream of experience, updating the parametes of its policy after each transition in the environment."
   ]
  },
  {
   "cell_type": "markdown",
   "metadata": {
    "colab_type": "text",
    "id": "KV03Q3MpveUM"
   },
   "source": [
    "### Install packages"
   ]
  },
  {
   "cell_type": "code",
   "execution_count": 0,
   "metadata": {
    "colab": {
     "base_uri": "https://localhost:8080/",
     "height": 1000
    },
    "colab_type": "code",
    "id": "wc-kqp3tveUT",
    "outputId": "512b9898-8766-46bc-be7f-00b5b51e086d"
   },
   "outputs": [
    {
     "name": "stdout",
     "output_type": "stream",
     "text": [
      "Cloning into 'bsuite'...\n",
      "remote: Enumerating objects: 878, done.\u001b[K\n",
      "remote: Counting objects: 100% (878/878), done.\u001b[K\n",
      "remote: Compressing objects: 100% (410/410), done.\u001b[K\n",
      "remote: Total 1362 (delta 628), reused 683 (delta 462), pack-reused 484\u001b[K\n",
      "Receiving objects: 100% (1362/1362), 681.06 KiB | 972.00 KiB/s, done.\n",
      "Resolving deltas: 100% (949/949), done.\n",
      "Collecting pip\n",
      "\u001b[?25l  Downloading https://files.pythonhosted.org/packages/54/2e/df11ea7e23e7e761d484ed3740285a34e38548cf2bad2bed3dd5768ec8b9/pip-20.1-py2.py3-none-any.whl (1.5MB)\n",
      "\u001b[K     |████████████████████████████████| 1.5MB 2.6MB/s \n",
      "\u001b[?25hRequirement already up-to-date: setuptools in /usr/local/lib/python3.6/dist-packages (46.1.3)\n",
      "Installing collected packages: pip\n",
      "  Found existing installation: pip 19.3.1\n",
      "    Uninstalling pip-19.3.1:\n",
      "      Successfully uninstalled pip-19.3.1\n",
      "Successfully installed pip-20.1\n",
      "Processing ./bsuite\n",
      "Requirement already satisfied: absl-py in /usr/local/lib/python3.6/dist-packages (from bsuite==0.0.0) (0.9.0)\n",
      "Collecting dm_env\n",
      "  Downloading dm_env-1.2-py3-none-any.whl (22 kB)\n",
      "Collecting frozendict\n",
      "  Downloading frozendict-1.2.tar.gz (2.6 kB)\n",
      "Requirement already satisfied: matplotlib in /usr/local/lib/python3.6/dist-packages (from bsuite==0.0.0) (3.2.1)\n",
      "Requirement already satisfied: numpy in /usr/local/lib/python3.6/dist-packages (from bsuite==0.0.0) (1.18.4)\n",
      "Requirement already satisfied: pandas in /usr/local/lib/python3.6/dist-packages (from bsuite==0.0.0) (1.0.3)\n",
      "Requirement already satisfied: plotnine in /usr/local/lib/python3.6/dist-packages (from bsuite==0.0.0) (0.6.0)\n",
      "Requirement already satisfied: scipy in /usr/local/lib/python3.6/dist-packages (from bsuite==0.0.0) (1.4.1)\n",
      "Requirement already satisfied: scikit-image in /usr/local/lib/python3.6/dist-packages (from bsuite==0.0.0) (0.16.2)\n",
      "Requirement already satisfied: six in /usr/local/lib/python3.6/dist-packages (from bsuite==0.0.0) (1.12.0)\n",
      "Requirement already satisfied: termcolor in /usr/local/lib/python3.6/dist-packages (from bsuite==0.0.0) (1.1.0)\n",
      "Collecting dm-tree\n",
      "  Downloading dm_tree-0.1.5-cp36-cp36m-manylinux1_x86_64.whl (294 kB)\n",
      "\u001b[K     |████████████████████████████████| 294 kB 4.0 MB/s \n",
      "\u001b[?25hRequirement already satisfied: python-dateutil>=2.1 in /usr/local/lib/python3.6/dist-packages (from matplotlib->bsuite==0.0.0) (2.8.1)\n",
      "Requirement already satisfied: kiwisolver>=1.0.1 in /usr/local/lib/python3.6/dist-packages (from matplotlib->bsuite==0.0.0) (1.2.0)\n",
      "Requirement already satisfied: pyparsing!=2.0.4,!=2.1.2,!=2.1.6,>=2.0.1 in /usr/local/lib/python3.6/dist-packages (from matplotlib->bsuite==0.0.0) (2.4.7)\n",
      "Requirement already satisfied: cycler>=0.10 in /usr/local/lib/python3.6/dist-packages (from matplotlib->bsuite==0.0.0) (0.10.0)\n",
      "Requirement already satisfied: pytz>=2017.2 in /usr/local/lib/python3.6/dist-packages (from pandas->bsuite==0.0.0) (2018.9)\n",
      "Requirement already satisfied: patsy>=0.4.1 in /usr/local/lib/python3.6/dist-packages (from plotnine->bsuite==0.0.0) (0.5.1)\n",
      "Requirement already satisfied: mizani>=0.6.0 in /usr/local/lib/python3.6/dist-packages (from plotnine->bsuite==0.0.0) (0.6.0)\n",
      "Requirement already satisfied: descartes>=1.1.0 in /usr/local/lib/python3.6/dist-packages (from plotnine->bsuite==0.0.0) (1.1.0)\n",
      "Requirement already satisfied: statsmodels>=0.9.0 in /usr/local/lib/python3.6/dist-packages (from plotnine->bsuite==0.0.0) (0.10.2)\n",
      "Requirement already satisfied: networkx>=2.0 in /usr/local/lib/python3.6/dist-packages (from scikit-image->bsuite==0.0.0) (2.4)\n",
      "Requirement already satisfied: imageio>=2.3.0 in /usr/local/lib/python3.6/dist-packages (from scikit-image->bsuite==0.0.0) (2.4.1)\n",
      "Requirement already satisfied: PyWavelets>=0.4.0 in /usr/local/lib/python3.6/dist-packages (from scikit-image->bsuite==0.0.0) (1.1.1)\n",
      "Requirement already satisfied: pillow>=4.3.0 in /usr/local/lib/python3.6/dist-packages (from scikit-image->bsuite==0.0.0) (7.0.0)\n",
      "Requirement already satisfied: palettable in /usr/local/lib/python3.6/dist-packages (from mizani>=0.6.0->plotnine->bsuite==0.0.0) (3.3.0)\n",
      "Requirement already satisfied: decorator>=4.3.0 in /usr/local/lib/python3.6/dist-packages (from networkx>=2.0->scikit-image->bsuite==0.0.0) (4.4.2)\n",
      "Building wheels for collected packages: bsuite, frozendict\n",
      "  Building wheel for bsuite (setup.py) ... \u001b[?25l\u001b[?25hdone\n",
      "  Created wheel for bsuite: filename=bsuite-0.0.0-py3-none-any.whl size=245994 sha256=a0775dc195a56c6e8fa6c2c74ed8b9cfbed243c039b4f5ee7f810ebb3be4ef04\n",
      "  Stored in directory: /tmp/pip-ephem-wheel-cache-9el9ancj/wheels/7f/28/67/e4427835abaace36e6b213a4f3879d9e28807addff21d62df5\n",
      "  Building wheel for frozendict (setup.py) ... \u001b[?25l\u001b[?25hdone\n",
      "  Created wheel for frozendict: filename=frozendict-1.2-py3-none-any.whl size=3148 sha256=8422c96b2a5020692494ad76a4406c7116f7d26b8e07b2042c6748d92ad51148\n",
      "  Stored in directory: /root/.cache/pip/wheels/c9/13/a1/b4f2255117a7dccdd6219408dce1d87446716b1bf77451cb97\n",
      "Successfully built bsuite frozendict\n",
      "Installing collected packages: dm-tree, dm-env, frozendict, bsuite\n",
      "Successfully installed bsuite-0.0.0 dm-env-1.2 dm-tree-0.1.5 frozendict-1.2\n",
      "Collecting dm-haiku\n",
      "  Downloading dm_haiku-0.0.1b0-py3-none-any.whl (193 kB)\n",
      "\u001b[K     |████████████████████████████████| 193 kB 2.7 MB/s \n",
      "\u001b[?25hRequirement already satisfied: numpy>=1.18.0 in /usr/local/lib/python3.6/dist-packages (from dm-haiku) (1.18.4)\n",
      "Requirement already satisfied: tabulate>=0.7.5 in /usr/local/lib/python3.6/dist-packages (from dm-haiku) (0.8.7)\n",
      "Requirement already satisfied: absl-py>=0.7.1 in /usr/local/lib/python3.6/dist-packages (from dm-haiku) (0.9.0)\n",
      "Requirement already satisfied: dm-tree>=0.1.1 in /usr/local/lib/python3.6/dist-packages (from dm-haiku) (0.1.5)\n",
      "Requirement already satisfied: six>=1.12.0 in /usr/local/lib/python3.6/dist-packages (from dm-haiku) (1.12.0)\n",
      "Requirement already satisfied: wrapt>=1.11.1 in /usr/local/lib/python3.6/dist-packages (from dm-haiku) (1.12.1)\n",
      "Installing collected packages: dm-haiku\n",
      "Successfully installed dm-haiku-0.0.1b0\n"
     ]
    }
   ],
   "source": [
    "!git clone https://github.com/deepmind/bsuite.git\n",
    "!pip install --upgrade pip setuptools\n",
    "!pip install bsuite/\n",
    "!pip install dm-haiku\n",
    "# !pip install --upgrade jaxlib"
   ]
  },
  {
   "cell_type": "code",
   "execution_count": 0,
   "metadata": {
    "colab": {},
    "colab_type": "code",
    "id": "huyKrYpvSHSu"
   },
   "outputs": [],
   "source": [
    "from bsuite.environments import catch\n",
    "\n",
    "import jax\n",
    "import jax.numpy as jnp\n",
    "from jax.experimental import optix \n",
    "import haiku as hk\n",
    "\n",
    "import matplotlib.pyplot as plt\n",
    "from collections import defaultdict\n"
   ]
  },
  {
   "cell_type": "markdown",
   "metadata": {
    "colab_type": "text",
    "id": "Xtlrr5d2p7cS"
   },
   "source": [
    "### Neural networks\n",
    "\n",
    "You will now use JAX to define a network parametrising:\n",
    "\n",
    "* The values of each state $v_{\\pi}(s)$.\n",
    "* The action preferences in each state $\\{p_i(s)\\}_{i\\in\\{1, ..., |A|\\}}$ (you can think of and implement the preferences $\\mathbf{p}(s)$ as a vector output with $|A|$ elements).\n",
    "\n",
    "You will use `Haiku` (https://github.com/deepmind/dm-haiku) to define the network. You will need to:\n",
    "* define the forward pass of the network as some function `fn`\n",
    "* Use `hk.transform(fn)` to convert this in a pair of functions (`init_net`, and `apply_net`):\n",
    "\n",
    "The `init` function has signature `parameters = init_net(key, obs)`. \n",
    "  * takes a `jax.random.PRNGKey` and an `observation`\n",
    "  * returns randomly sampled weights for the neural network.\n",
    "\n",
    "The `apply_net` functions have signature `v, p = apply_net(parameters, obs)` \n",
    "  * takes the current set of `parameters` and an `observation`\n",
    "  * returns a scalar value `v` and a vector of preferences `p`"
   ]
  },
  {
   "cell_type": "markdown",
   "metadata": {
    "colab_type": "text",
    "id": "Gj1nsUYuOoe1"
   },
   "source": [
    "### Q 3.1 [5 marks]\n",
    "\n",
    "Define the forward pass of the neural network. The network must:\n",
    "\n",
    "* take an `observation` as input\n",
    "* reshape the observation into a flat vector `flat_obs`\n",
    "* compute a hidden representation `h = Relu(W.dot(flat_obs) + b)`\n",
    "* compute a vector of action preferences as a linear function of `h`\n",
    "* compute a scalar state value as a linear function of `h`\n",
    "* return the scalar value and vector preferences.\n",
    "\n",
    "Note:\n",
    "* The hidden layer should have 50 units\n",
    "* the action preferences should be a vector of 3 elements (one per each available action),\n",
    "* the value should be a scalar (not a vector with one element).\n"
   ]
  },
  {
   "cell_type": "code",
   "execution_count": 0,
   "metadata": {
    "colab": {},
    "colab_type": "code",
    "id": "U9n0BTx6Nc1d"
   },
   "outputs": [],
   "source": [
    "def forward_pass(obs):\n",
    "    flatten_fn = lambda x: jnp.reshape(x, (-1,))\n",
    "    h = hk.Sequential([flatten_fn, hk.Linear(50)])(obs)\n",
    "    pref = hk.Sequential([jax.nn.relu,hk.Linear(3)])(h)\n",
    "    value = hk.Sequential([jax.nn.relu,hk.Linear(1)])(h)\n",
    "\n",
    "\n",
    "    return value, pref\n",
    "\n",
    "\n",
    "\n",
    "init_net, apply_net = hk.transform(forward_pass)"
   ]
  },
  {
   "cell_type": "markdown",
   "metadata": {
    "colab_type": "text",
    "id": "9ImJUgzFosvD"
   },
   "source": [
    "### Choosing actions\n",
    "\n",
    "A critical component of an actor-critic agent is a (stochastic) policy, mapping `observations` to `actions`. \n",
    "\n",
    "In deep RL, this mapping is conventionally parametrised by a deep neural network."
   ]
  },
  {
   "cell_type": "markdown",
   "metadata": {
    "colab_type": "text",
    "id": "1MVXNWwlYW24"
   },
   "source": [
    "### Q 3.2 [5 marks]\n",
    "\n",
    "Implement a softmax policy parametrised by the neural network above.\n",
    "\n",
    "The function has signature `action = policy(net_params, key, obs)`,\n",
    "* Taking the current network parameters `net_params`, a JAX random `key` and the current `observation`\n",
    "* Returning an `action` sampled from a softmax distribution (with temperature 1.) over the set of preferences output by the neural network.\n",
    "\n",
    "Functions to perform random sampling in JAX (e.g. those in `jax.random`) take a random key as input, and they are deterministic function of such a key. In general, in a JAX program you will therefore need to use the `split` function to generate a new random key before every new sampling. The run loop that runs the experiment later on takes care of this for you: you can assume that a new random `key` is provided to you on each call to the `policy`, and you do not need to split the key yourself within the function.\n",
    "\n"
   ]
  },
  {
   "cell_type": "code",
   "execution_count": 0,
   "metadata": {
    "colab": {},
    "colab_type": "code",
    "id": "x-FSOYNOYnUx"
   },
   "outputs": [],
   "source": [
    "@jax.jit\n",
    "# \"\"\"Sample action from a softmax policy.\"\"\"\n",
    "def policy(net_params, key, obs):\n",
    "    v, p = apply_net(net_params, obs)\n",
    "    p = p - jnp.max(p)\n",
    "    pi = jax.nn.softmax(p)\n",
    "    action = jax.random.categorical(key, logits = pi, axis = -1,shape=None)\n",
    "\n",
    "    return action"
   ]
  },
  {
   "cell_type": "markdown",
   "metadata": {
    "colab_type": "text",
    "id": "iMYcb7Y9krnT"
   },
   "source": [
    "### Learning values and policies\n",
    "\n",
    "An actor-critic agent requires to update the parameters of the network so as to simultaneously improve the value predictions and the policy.\n",
    "\n",
    "In the next section you will define the gradient updates for each of these two components."
   ]
  },
  {
   "cell_type": "markdown",
   "metadata": {
    "colab_type": "text",
    "id": "GsIlpmNEk5fv"
   },
   "source": [
    "### Q 3.3 [5 marks]\n",
    "\n",
    "Implement a function to compute a stochastic estimate of the policy gradient from a 1 step transition in the environment.\n",
    "\n",
    "* You will use $R_{t+1} + \\gamma v(S_{t+1})$ as an estimate of $q_{\\pi}(S_t, A_t)$\n",
    "* You will use $v(S_{t})$ as a baseline to reduce the variance of the updates.\n",
    "\n",
    "The function must have signature `grads = policy_gradient(net_params, obs_tm1, a_tm1, r_t, discount_t, obs_t)`.\n",
    "* Where the inputs are:\n",
    "  * the parameters `net_params` of the network,\n",
    "  * an observation `obs_tm1`\n",
    "  * the action `a_tm1` selected after observing `obs_tm1`,\n",
    "  * the resulting reward `r_t` and environment discount `discount_t` \n",
    "  * and the following observation `obs_t`\n",
    "* Returns a stochastic estimate of the policy gradient.\n",
    "  * `grads` has the same structure as `net_params`\n",
    "  * as it contains an estimate of the gradient of the expected episodic return wrt to each parameter "
   ]
  },
  {
   "cell_type": "code",
   "execution_count": 0,
   "metadata": {
    "colab": {},
    "colab_type": "code",
    "id": "AHLGjy8he6vh"
   },
   "outputs": [],
   "source": [
    "def policy_gradient(net_params, obs_tm1, a_tm1, r_t, discount_t, obs_t):\n",
    "\n",
    "    def g(net_params, obs_tm1, a_tm1, r_t, discount_t, obs_t):\n",
    "        v_tm1, p_tm1 = apply_net(net_params, obs_tm1)\n",
    "        v_t, p_t = apply_net(net_params, obs_t)\n",
    "        pi_tm1 = jax.nn.log_softmax(p_tm1)[a_tm1]\n",
    "\n",
    "        target_tm1 = r_t + discount_t * v_t[0]\n",
    "        td = jax.lax.stop_gradient(target_tm1)  -  v_tm1[0]\n",
    "        return pi_tm1 * td\n",
    "\n",
    "\n",
    "\n",
    "    return jax.grad(g)(net_params, obs_tm1, a_tm1, r_t, discount_t, obs_t)\n",
    "    \n"
   ]
  },
  {
   "cell_type": "markdown",
   "metadata": {
    "colab_type": "text",
    "id": "5XgjefrBlIGN"
   },
   "source": [
    "### Q 3.4 [5 marks]\n",
    "\n",
    "Implement a function to compute a stochastic estimate of the negative gradient of the value loss:   $ L(\\theta) = E_{s \\sim \\pi}[(v_{\\theta}(s) - v_{\\pi}(s))^2]$\n",
    "\n",
    "As for the policy gradient, this must be computed from a 1 step transition in the environment, so using bootstrapping after one step.\n",
    "\n",
    "It must have signature `neg_grads = neg_value_loss_gradient(net_params, obs_tm1, a_tm1, r_t, discount_t, obs_t)`.\n",
    "* Where the inputs are:\n",
    "  * the current parameters `net_params` of the network,\n",
    "  * an observation `obs_tm1`\n",
    "  * the action `a_tm1` selected after observing `obs_tm1`,\n",
    "  * the resulting reward `r_t` and environment discount `discount_t` \n",
    "  * and the following observation `obs_t`\n",
    "* Returns a stochastic estimate of the policy gradient.\n",
    "  * `neg_grads` has the same structure as `net_params`\n",
    "  * as it contains a stochastic estimate of the negative gradient of the expected value prediction loss "
   ]
  },
  {
   "cell_type": "code",
   "execution_count": 0,
   "metadata": {
    "colab": {},
    "colab_type": "code",
    "id": "GTgSjuK0Jyid"
   },
   "outputs": [],
   "source": [
    "def neg_value_loss_gradient(net_params, obs_tm1, a_tm1, r_t, discount_t, obs_t):\n",
    "\n",
    "    def loss(net_params, obs_tm1, a_tm1, r_t, discount_t, obs_t):\n",
    "        v_tm1, _ = apply_net(net_params, obs_tm1)\n",
    "        v_t, _ = apply_net(net_params, obs_t)\n",
    "        target_tm1 = r_t + discount_t * v_t[0]\n",
    "        td = jax.lax.stop_gradient(target_tm1)  -  v_tm1[0]\n",
    "        return - (td ** 2)\n",
    "    \n",
    "\n",
    "    return jax.grad(loss)(net_params, obs_tm1, a_tm1, r_t, discount_t, obs_t)\n",
    "    "
   ]
  },
  {
   "cell_type": "markdown",
   "metadata": {
    "colab_type": "text",
    "id": "jAXgLZg8mfMd"
   },
   "source": [
    "### Updating shared parameters\n",
    "\n",
    "The policy gradient identifies the direction of change in the parameters that most steeply improve the policy.\n",
    "The negative gradient of the value loss identifies the direction of change in the parameters that most steeply improves the value predictions.\n",
    "\n",
    "However, note that the value and policy share some of the parameters of the network.  How do we combine the two gradient updates?\n",
    "\n",
    "In this assignment, we will simply sum the policy and value components.\n",
    "The function that combines the two gradients is implemented for you in the cell below."
   ]
  },
  {
   "cell_type": "code",
   "execution_count": 0,
   "metadata": {
    "colab": {},
    "colab_type": "code",
    "id": "uhKCLe8jjkdZ"
   },
   "outputs": [],
   "source": [
    "@jax.jit\n",
    "def compute_gradient(net_params, obs_tm1, a_tm1, r_t, discount_t, obs_t):\n",
    "  pgrads = policy_gradient(net_params, obs_tm1, a_tm1, r_t, discount_t, obs_t)\n",
    "  vgrads = neg_value_loss_gradient(net_params, obs_tm1, a_tm1, r_t, discount_t, obs_t)\n",
    "  return jax.tree_multimap(lambda pg, vg: pg + vg, pgrads, vgrads)"
   ]
  },
  {
   "cell_type": "markdown",
   "metadata": {
    "colab_type": "text",
    "id": "tYaVb6GcpCRe"
   },
   "source": [
    "### Optimisation\n",
    "\n",
    "The gradient updates are typically rescaled to avoid taking too large a step on a single update.\n",
    "For instance given a candidate gradient update $\\nabla$ we may update our parameters $\\theta$ by;\n",
    "$$\\Delta \\theta = \\theta + \\alpha * \\nabla\\,,$$\n",
    "where $\\alpha$ is a small number between 0 and 1 (e.g., $\\alpha=0.01$ or $\\alpha=0.001$), referred to as `step_size` or `learning_rate`\n",
    "\n",
    "The gradients with respect to each weight of a neural network may however have very different magnitudes. This can make it hard to set a suitable learning rate $\\alpha$.\n",
    "\n",
    "In deep learning, and deep RL, we typically use adaptive learning rates, for instance by, rescaling each component of the gradient using statistics tracking the typical size of the updates to that weight. Then the entire update is rescaled using a global `learning_rate` $\\alpha$\n"
   ]
  },
  {
   "cell_type": "markdown",
   "metadata": {
    "colab_type": "text",
    "id": "hbFePWfApaMU"
   },
   "source": [
    "### Q 3.5 [5 marks]\n",
    "\n",
    "A popular approach to adaptive gradient rescaling was introduced by the `Adam` algorithm.\n",
    "* See [Kingma et al, 2014](https://arxiv.org/abs/1412.6980) for references.\n",
    "\n",
    "This algorithm implements the following procedure before applying each update:\n",
    "* Increase an update counter $k \\gets k+1$ (starting at k=0 before any updates),\n",
    "* Update the first moment of each gradient component $\\mu \\gets (1 - \\eta) g + \\eta \\mu$ where $g$ is the latest stochastic gradient.\n",
    "* Update the second moment of each gradient component $\\nu_i = (1 - \\eta) g_i ^ 2 + \\eta \\nu_i $ where $g$ is the latest gradient update.\n",
    "* Use the following update to update the weights:\n",
    "$$\\Delta w = \\alpha \\frac{\\mu / (1 - \\beta_1 ^ {k})}{\\epsilon + \\sqrt{\\nu / (1 - \\beta_2 ^ {k})}}$$\n",
    "* $\\alpha$ is a global `learning rate`\n",
    "* $\\beta_1$ and $\\beta_2$ define a soft horizon for the per-weight statistics.\n",
    "* $\\epsilon$ makes the rescaling more robust to numerical issues.\n",
    "\n",
    "In the next cell define a pair of functions (`opt_init`, and `opt_update`), where:\n",
    "\n",
    "The `opt_init` function has signature `state = opt_init(params)`.\n",
    "* Takes the network parameters as inputs\n",
    "* Initialises an `optimiser state` holding the per weight statistics.\n",
    "\n",
    "The `opt_update` function has signature `updates, state = opt_update(grads, state)`.\n",
    "* Takes a `gradient` and an `optimisers state`,\n",
    "* and returns the transformed gradient and the updated `optimiser state`.\n",
    "\n",
    "Set the algorrithm's hyper-parameters to:\n",
    "* $\\beta_1=.9$ and $\\beta_2=.999$, $\\epsilon=1e-8$."
   ]
  },
  {
   "cell_type": "code",
   "execution_count": 0,
   "metadata": {
    "colab": {},
    "colab_type": "code",
    "id": "017XRA_BpbZx"
   },
   "outputs": [],
   "source": [
    "# opt_init, opt_update = ..., ...\n",
    "beta1 = 0.9\n",
    "beta2 = 0.999\n",
    "e = 1e-8\n",
    "alpha = 0.009\n",
    "\n",
    "def opt_init(params):\n",
    "    t = 0\n",
    "    m = jax.tree_util.tree_map(lambda x: 0*x, params)\n",
    "    v = jax.tree_util.tree_map(lambda x: 0*x, params)\n",
    "    state = [t, m ,v]\n",
    "    return state\n",
    "\n",
    "def opt_update(grads, state):\n",
    "    t, m , v = state\n",
    "    t += 1\n",
    "    m = jax.tree_multimap(lambda x,y: beta1*x + (1-beta1)*y, m, grads)\n",
    "    v = jax.tree_multimap(lambda x,y: beta2*x + (1-beta2)*(y**2), v, grads)\n",
    "    \n",
    "    _m = jax.tree_util.tree_map(lambda x: x/ (1-beta1**t), m)\n",
    "    _v = jax.tree_util.tree_map(lambda x: x/ (1-beta2**t), v)\n",
    "    delta = jax.tree_multimap(lambda x,y: alpha*x/( e + y**0.5), _m, _v)\n",
    "    state = [t, m, v]\n",
    "    return delta, state"
   ]
  },
  {
   "cell_type": "markdown",
   "metadata": {
    "colab_type": "text",
    "id": "DczWvZfNSnTj"
   },
   "source": [
    "### Run experiments\n",
    "\n",
    "Run the cell below to show the performance of the resulting agent.\n",
    "\n",
    "You may also use this section for debugging your implementations.\n",
    "\n",
    "Note however, that most functions are `jitted` for performance,\n",
    "* either using the `@jax.jit` decorator in the function definition\n",
    "* or calling explicitely `fn = jax.jit(fn)`\n",
    "\n",
    "When jitting, the code is compiled on the first time the function is executed\n",
    "* and execution is much faster on seubsequent calls.\n",
    "* a notable side effect is that print statements in a jitted function will only execute on the first execution of the function.\n",
    "* to drop into a debugger or print on each function execution you will have to disable the `@jax.jit` annotations and jax.jit calls."
   ]
  },
  {
   "cell_type": "code",
   "execution_count": 0,
   "metadata": {
    "colab": {
     "base_uri": "https://localhost:8080/",
     "height": 34
    },
    "colab_type": "code",
    "id": "Fz837XTkLxE8",
    "outputId": "7fb512b2-8547-4000-9ed4-027ac3892112"
   },
   "outputs": [
    {
     "name": "stdout",
     "output_type": "stream",
     "text": [
      "Training agent for 1500 episodes...\n"
     ]
    }
   ],
   "source": [
    "# DO NOT CHANGE THIS CELL\n",
    "\n",
    "# Experiment configs.\n",
    "train_episodes = 1500\n",
    "discount_factor = .99\n",
    "\n",
    "# Create environment.\n",
    "env = catch.Catch(seed=42)\n",
    "\n",
    "# Build and initialize network.\n",
    "rng = hk.PRNGSequence(jax.random.PRNGKey(42))\n",
    "sample_input = env.observation_spec().generate_value()\n",
    "net_params = init_net(next(rng), sample_input)\n",
    "\n",
    "# Initialize optimizer state.\n",
    "opt_state = opt_init(net_params)\n",
    "\n",
    "# Jit.\n",
    "opt_update = jax.jit(opt_update)\n",
    "apply_updates = jax.jit(optix.apply_updates)\n",
    "\n",
    "print(f\"Training agent for {train_episodes} episodes...\")\n",
    "all_episode_returns = []\n",
    "\n",
    "for i in range(train_episodes):\n",
    "  episode_return = 0.\n",
    "  timestep = env.reset()\n",
    "  obs_tm1 = timestep.observation\n",
    "\n",
    "  # Sample initial action.\n",
    "  a_tm1 = policy(net_params, next(rng), obs_tm1)\n",
    "\n",
    "  while not timestep.last():\n",
    "    # Step environment.\n",
    "    new_timestep = env.step(int(a_tm1))\n",
    "\n",
    "    # Sample action from agent policy.\n",
    "    a_t = policy(net_params, next(rng), new_timestep.observation)\n",
    "\n",
    "    # Update params.\n",
    "    r_t = new_timestep.reward\n",
    "    discount_t = discount_factor * new_timestep.discount\n",
    "    dJ_dtheta = compute_gradient(\n",
    "        net_params, obs_tm1, a_tm1, r_t, discount_t, new_timestep.observation)\n",
    "\n",
    "    updates, opt_state = opt_update(dJ_dtheta, opt_state)\n",
    "    net_params = apply_updates(net_params, updates)\n",
    "\n",
    "    # Within episode book-keeping.\n",
    "    episode_return += new_timestep.reward\n",
    "    timestep = new_timestep\n",
    "    obs_tm1 = new_timestep.observation\n",
    "    a_tm1 = a_t\n",
    "\n",
    "\n",
    "  # Experiment results tracking.\n",
    "  all_episode_returns.append(episode_return)"
   ]
  },
  {
   "cell_type": "code",
   "execution_count": 0,
   "metadata": {
    "colab": {
     "base_uri": "https://localhost:8080/",
     "height": 334
    },
    "colab_type": "code",
    "id": "diKy01y1C0fz",
    "outputId": "b83a0faa-8644-4d59-dd94-f9d8e6285e35"
   },
   "outputs": [
    {
     "data": {
      "image/png": "[encoded data removed]",
      "text/plain": [
       "<Figure size 504x360 with 1 Axes>"
      ]
     },
     "metadata": {
      "needs_background": "light",
      "tags": []
     },
     "output_type": "display_data"
    }
   ],
   "source": [
    "plt.figure(figsize=(7, 5))\n",
    "import numpy as np\n",
    "def moving_average(x, w):\n",
    "    return np.convolve(x, np.ones(w), 'valid') / w\n",
    "\n",
    "smoothed_returns = moving_average(all_episode_returns, 30)\n",
    "plt.plot(smoothed_returns)\n",
    "\n",
    "plt.ylabel('Average episode returns')\n",
    "plt.xlabel('Number of episodes')\n",
    "\n",
    "ax = plt.gca()\n",
    "ax.spines['left'].set_visible(True)\n",
    "ax.spines['bottom'].set_visible(True)\n",
    "ax.spines['right'].set_visible(False)\n",
    "ax.spines['top'].set_visible(False)\n",
    "ax.xaxis.set_ticks_position('bottom')\n",
    "ax.yaxis.set_ticks_position('left')"
   ]
  },
  {
   "cell_type": "markdown",
   "metadata": {
    "colab_type": "text",
    "id": "mh918hc0_iQ9"
   },
   "source": [
    "# Part 3: Off-policy multi-step learning [25 marks]"
   ]
  },
  {
   "cell_type": "markdown",
   "metadata": {
    "colab_type": "text",
    "id": "thswfgXU_p05"
   },
   "source": [
    "For many concrete algorithms, we need to combine multi-step updates with off-policy corrections.  The multi-step updates are necesary for efficient learning, while the off-policy corrections are necessary to learn about multiple things at once, or to correct for a distribution mismatch (e.g., when trying to perform a policy-gradient update from logged data).\n",
    "\n",
    "In this section, you will implement various different returns with off-policy corrections.  The next cell has two examples *without* corrections.  These examples compute equivalent returns, but compute those returns in different ways.  These are provided as reference implementations to help you.\n",
    "\n",
    "Note that the implementations both allow for immediate bootstrapping on the current state value. This is unconventional (most literature only allows the first bootstrapping to happen after the first step), but we will use this convention in all implementations below for consistency. "
   ]
  },
  {
   "cell_type": "code",
   "execution_count": 7,
   "metadata": {
    "cellView": "both",
    "colab": {},
    "colab_type": "code",
    "id": "KHNH35SZYHBu"
   },
   "outputs": [],
   "source": [
    "#@title On-policy return computations\n",
    "\n",
    "def on_policy(observations, actions, pi, mu, rewards, discounts,\n",
    "              trace_parameter, v_fn):\n",
    "  \"\"\"Compute on-policy return recursively.\"\"\"\n",
    "  del mu  # The policy probabilities are ignored by this function\n",
    "  T = len(rewards)  # number of transitions\n",
    "  r = rewards\n",
    "  d = discounts\n",
    "  l = trace_parameter\n",
    "  v = np.array([v_fn(o) for o in observations])\n",
    "  G = np.zeros((T,))\n",
    "  # recurse backwards to calculate returns\n",
    "  for t in reversed(range(T)):\n",
    "    # There are T+1 observations, but only T rewards, and the indexing here\n",
    "    # for the rewards is off by one compared to the indexing in the slides\n",
    "    # and in Sutton & Barto.  In other words, r[t] == R_{t+1}.\n",
    "    if t == T - 1:\n",
    "      G[t] = r[t] + d[t]*v[t + 1]\n",
    "    else:\n",
    "      G[t] = r[t] + d[t]*((1 - l)*v[t + 1] + l*G[t + 1])\n",
    "  v = v[:-1]  # Remove (T+1)th observation before calculating the returns\n",
    "  return (1 - l)*v + l*G\n",
    "\n",
    "def on_policy_error_recursion(observations, actions, pi, mu, rewards, discounts,\n",
    "                              trace_parameter, v_fn):\n",
    "  del pi  # The target policy probabilities are ignored by this function\n",
    "  del mu  # The behaviour policy probabilities are ignored by this function\n",
    "  T = len(rewards)  # number of transitions\n",
    "  r = rewards\n",
    "  d = discounts\n",
    "  l = trace_parameter\n",
    "  v = np.array([v_fn(o) for o in observations])\n",
    "  errors = np.zeros((T,))\n",
    "  error = 0.\n",
    "  # recurse backwards to calculate errors\n",
    "  for t in reversed(range(T)):\n",
    "    error = r[t] + d[t]*v[t + 1] - v[t] + d[t]*l*error\n",
    "    errors[t] = error\n",
    "  v = v[:-1]  # Remove (T+1)th observation before calculating the returns\n",
    "  return v + l*errors"
   ]
  },
  {
   "cell_type": "markdown",
   "metadata": {
    "colab_type": "text",
    "id": "UNXhobrYHeiy"
   },
   "source": [
    "### Q 4.1 [15 marks]\n",
    "Implement the return functions below and run the cells below that."
   ]
  },
  {
   "cell_type": "code",
   "execution_count": 22,
   "metadata": {
    "colab": {},
    "colab_type": "code",
    "id": "7g6FOZLfA_su"
   },
   "outputs": [],
   "source": [
    "def full_importance_sampling(observations, actions, pi, mu, rewards, discounts, trace_parameter, v_fn):\n",
    "#   \"\"\"\n",
    "#   Compute off-policy return with full importance-sampling corrections, so that\n",
    "#   the return G_t is corrected with the full importance-sampling correction of\n",
    "#   the rest of the trajectory.\n",
    "#   \"\"\"\n",
    "\n",
    "    T = len(rewards)  # number of transitions\n",
    "    r = rewards\n",
    "    d = discounts\n",
    "    l = trace_parameter\n",
    "    v = np.array([v_fn(o) for o in observations])\n",
    "    G = np.zeros((T,))\n",
    "    ro = np.zeros((T,))\n",
    "    for t in reversed(range(T)):\n",
    "    # There are T+1 observations, but only T rewards, and the indexing here\n",
    "    # for the rewards is off by one compared to the indexing in the slides\n",
    "    # and in Sutton & Barto.  In other words, r[t] == R_{t+1}.\n",
    "        if t == T - 1:\n",
    "          G[t] = r[t] + d[t]*v[t + 1]\n",
    "          ro[t] = pi[t] / mu[t]\n",
    "        else:\n",
    "          G[t] = r[t] + d[t]*((1 - l)*v[t + 1] + l*G[t + 1])\n",
    "          ro[t] = ro[t+1] * pi[t] / mu[t]\n",
    "    return G*ro\n",
    "\n",
    "\n",
    "def per_decision(observations, actions, pi, mu, rewards, discounts, trace_parameter, v_fn):\n",
    "#   \"\"\"\n",
    "#   Compute off-policy return with per-decision importance-sampling corrections.\n",
    "#   \"\"\"\n",
    "    T = len(rewards)  # number of transitions\n",
    "    r = rewards\n",
    "    d = discounts\n",
    "    l = trace_parameter\n",
    "    v = np.array([v_fn(o) for o in observations])\n",
    "    G = np.zeros((T,))\n",
    "    ro = np.zeros((T,))\n",
    "    for t in reversed(range(T)):\n",
    "    # There are T+1 observations, but only T rewards, and the indexing here\n",
    "    # for the rewards is off by one compared to the indexing in the slides\n",
    "    # and in Sutton & Barto.  In other words, r[t] == R_{t+1}.\n",
    "        if t == T - 1:\n",
    "            G[t] = r[t] + d[t]*v[t + 1]\n",
    "            ro = pi[t] / mu[t]\n",
    "            G[t] *= ro\n",
    "\n",
    "        else:\n",
    "            G[t] = r[t] + d[t]*((1 - l)*v[t + 1] + l*G[t + 1])\n",
    "            ro = pi[t] / mu[t]\n",
    "            G[t] *= ro\n",
    "\n",
    "    return G\n",
    "\n",
    "\n",
    "def control_variates(observations, actions, pi, mu, rewards, discounts, trace_parameter, v_fn):\n",
    "#   \"\"\"\n",
    "#   Compute off-policy return with \n",
    "#   1. per-decision importance-sampling corrections, and\n",
    "#   2. control variates\n",
    "#   \"\"\"\n",
    "    T = len(rewards)  # number of transitions\n",
    "    r = rewards\n",
    "    d = discounts\n",
    "    l = trace_parameter\n",
    "    v = np.array([v_fn(o) for o in observations])\n",
    "    G = np.zeros((T,))\n",
    "    ro = np.zeros((T,))\n",
    "    for t in reversed(range(T)):\n",
    "    # There are T+1 observations, but only T rewards, and the indexing here\n",
    "    # for the rewards is off by one compared to the indexing in the slides\n",
    "    # and in Sutton & Barto.  In other words, r[t] == R_{t+1}.\n",
    "        if t == T - 1:\n",
    "            G[t] = r[t] + d[t]*v[t + 1]\n",
    "            ro[t] = pi[t] / mu[t]\n",
    "\n",
    "        else:\n",
    "            G[t] = r[t] + d[t]*((1 - l)*v[t + 1] + l*G[t + 1])\n",
    "            ro[t] = pi[t] / mu[t]\n",
    "    v = v[:-1]  # Remove (T+1)th observation before calculating the returns\n",
    "    return (1 - ro) * v + ro * G\n",
    "\n",
    "def adaptive_bootstrapping(observations, actions, pi, mu, rewards, discounts, trace_parameter, v_fn):\n",
    "#   \"\"\"\n",
    "#   Compute off-policy return with \n",
    "#   1. per-decision importance-sampling corrections, and\n",
    "#   2. control variates, and\n",
    "#   3. adaptive bootstrapping.\n",
    "\n",
    "#   Implement the adaptive bootstrapping with an *additional* trace parameter\n",
    "#   lambda, such that lambda_t = lambda * min(1, 1/rho_t).\n",
    "#   \"\"\"\n",
    "    T = len(rewards)  # number of transitions\n",
    "    r = rewards\n",
    "    d = discounts\n",
    "    l = trace_parameter\n",
    "    v = np.array([v_fn(o) for o in observations])\n",
    "    G = np.zeros((T,))\n",
    "    ro = np.zeros((T,))\n",
    "    lamb = np.zeros((T,))\n",
    "    for t in reversed(range(T)):\n",
    "    # There are T+1 observations, but only T rewards, and the indexing here\n",
    "    # for the rewards is off by one compared to the indexing in the slides\n",
    "    # and in Sutton & Barto.  In other words, r[t] == R_{t+1}.\n",
    "        if t == T - 1:\n",
    "            ro[t] = pi[t] / mu[t]\n",
    "            lamb[t] = l * min(1, 1/ro[t])\n",
    "            G[t] = r[t] + d[t]*v[t + 1]\n",
    "\n",
    "        else:\n",
    "            ro[t] = pi[t] / mu[t]\n",
    "            lamb[t] = l * min(1, 1/ro[t])\n",
    "            G[t] = r[t] + d[t] * ((1 - lamb[t])*v[t + 1] + lamb[t] * G[t + 1])\n",
    "    v = v[:-1]  # Remove (T+1)th observation before calculating the returns\n",
    "    return (1 - ro)*v + ro*G\n"
   ]
  },
  {
   "cell_type": "code",
   "execution_count": 8,
   "metadata": {
    "cellView": "both",
    "colab": {},
    "colab_type": "code",
    "id": "7EEHYK89ANIA"
   },
   "outputs": [],
   "source": [
    "#@title (Run, don't modify) Functions to generate experience, compute values\n",
    "MU_RIGHT = 0.5\n",
    "PI_RIGHT = 0.9\n",
    "NUMBER_OF_STEPS = 5\n",
    "DISCOUNT = 0.99\n",
    "\n",
    "def generate_experience():\n",
    "  r\"\"\"Generate experience trajectories from a tabular tree MDP.\n",
    "\n",
    "  This function will start in state 0, and will then generate actions according\n",
    "  to a uniformly random behaviour policy.  When A_t == 0, the action will be to\n",
    "  the left, with A_t==1, it will be to the right.  The states are nunmbered as\n",
    "  depicted below:\n",
    "          0\n",
    "         / \\\n",
    "        1   2\n",
    "       / \\ / \\\n",
    "      3   4   5\n",
    "         ...\n",
    "  \n",
    "  Args:\n",
    "      number_of_steps: the number of total steps.\n",
    "      p_right: probability of the behaviour to go right.\n",
    "\n",
    "  Returns:\n",
    "      A dictionary with elements:\n",
    "        * observations (number_of_steps + 1 integers): the\n",
    "          observations are just the actual (integer) states\n",
    "        * actions (number_of_steps integers): actions per step\n",
    "        * rewards (number_of_steps scalars): rewards per step\n",
    "        * discounts (number_of_steps scalars): currently always 0.9,\n",
    "          except the last one which is zero\n",
    "        * mu (number_of_steps scalars): probability of selecting each\n",
    "          action according to the behavious policy\n",
    "        * pi (number_of_steps scalars): probability of selecting each\n",
    "          action according to the target policy (here p(1) = 0.9 and\n",
    "          p(0) = 0.1, where a==1 implies we go 'right')\n",
    "  \"\"\"\n",
    "  # generate actions\n",
    "  actions = np.array(np.random.random(NUMBER_OF_STEPS,) < MU_RIGHT,\n",
    "                     dtype=np.int)\n",
    "  s = 0\n",
    "  # compute resulting states\n",
    "  states = np.cumsum(np.arange(1, NUMBER_OF_STEPS + 1) + actions)\n",
    "  states = np.array([0] + list(states))  # add start state\n",
    "  # in this case, observations are just the real states\n",
    "  observations = states\n",
    "  # generate rewards\n",
    "  rewards = 2.*actions - 1. # -1 for left, +1 for right, \n",
    "  rewards[-1] = np.sum(actions)  # extra final reward for going right\n",
    "  # compute discounts\n",
    "  discounts = DISCOUNT * np.ones_like(rewards)\n",
    "  discounts[-1] = 0.  # final transition is terminal, has discount=0\n",
    "  # determine target and behaviour probabilities for the selected actions\n",
    "  pi = np.array([1. - PI_RIGHT, PI_RIGHT])[actions] # Target probabilities\n",
    "  mu = np.array([1. - MU_RIGHT, MU_RIGHT])[actions] # Behaviour probabilities\n",
    "  return dict(observations=observations,\n",
    "              actions=actions,\n",
    "              pi=pi,\n",
    "              mu=mu,\n",
    "              rewards=rewards,\n",
    "              discounts=discounts)\n",
    "\n",
    "def true_v(s, pi, number_of_steps):\n",
    "  \"\"\"Compute true state value recursively.\"\"\"\n",
    "  depth = int(np.floor((np.sqrt(1 + 8*s) - 1)/2))\n",
    "  position = int(s - depth*(depth+1)/2)\n",
    "  remaining_steps = number_of_steps - depth\n",
    "  final_reward = DISCOUNT**(remaining_steps-1)*(position + pi*remaining_steps)\n",
    "  reward_per_step = pi*(+1) + (1 - pi)*(-1)\n",
    "  discounted_steps = (1 - DISCOUNT**(remaining_steps - 1))/(1 - DISCOUNT)\n",
    "  reward_along_the_way = reward_per_step * discounted_steps\n",
    "  return reward_along_the_way + final_reward\n",
    "\n"
   ]
  },
  {
   "cell_type": "code",
   "execution_count": 25,
   "metadata": {
    "cellView": "both",
    "colab": {},
    "colab_type": "code",
    "id": "CCFMUmOfRTqZ"
   },
   "outputs": [
    {
     "name": "stdout",
     "output_type": "stream",
     "text": [
      "[  20.171 1023.417  302.539   20.769    6.017]\n"
     ]
    },
    {
     "data": {
      "image/png": "[encoded data removed]",
      "text/plain": [
       "<Figure size 864x576 with 1 Axes>"
      ]
     },
     "metadata": {
      "needs_background": "light"
     },
     "output_type": "display_data"
    }
   ],
   "source": [
    "#@title Run experiment (don't modify)\n",
    "algs = ['on_policy', 'full_importance_sampling', 'per_decision',\n",
    "        'control_variates', 'adaptive_bootstrapping']\n",
    "\n",
    "# Precompute state values (for efficiency)\n",
    "N = NUMBER_OF_STEPS\n",
    "true_vs = [true_v(s, PI_RIGHT, N) for s in range((N+1)*(N+2)//2)]\n",
    "\n",
    "def random_v(iteration, s):\n",
    "  rng = np.random.RandomState(seed=s + iteration*10000)\n",
    "  return true_vs[s] + rng.normal(loc=0, scale=1.)  # Add fixed random noise \n",
    "\n",
    "def plot_errors(ax, errors):\n",
    "  errors = np.array(errors)\n",
    "  ax.violinplot(np.log10(errors), showextrema=False)\n",
    "  ax.plot(range(1, len(algs)+1), np.log10(errors).T,\n",
    "          '.', color='#667799', ms=7, alpha=0.2)\n",
    "  ax.plot(range(1, len(algs)+1), np.log10(np.mean(errors, axis=0)),\n",
    "          '.', color='#000000', ms=20)\n",
    "  ax.set_yticks(np.arange(-2, 5))\n",
    "  ax.set_yticklabels(10.**np.arange(-2, 5), fontsize=13)\n",
    "  ax.set_ylabel(\"Value error $(v(s_0) - v_{\\\\pi}(s_0))^2$\", fontsize=15)\n",
    "  ax.set_xticks(range(1, len(algs)+1))\n",
    "  ax.set_xticklabels(algs, fontsize=15, rotation=70)\n",
    "  ax.set_ylim(-1, 4)\n",
    "\n",
    "fig = plt.figure(figsize=(12, 8))\n",
    "\n",
    "errors = []\n",
    "estimates = []\n",
    "v0 = true_vs[0]\n",
    "for iteration in range(1000):\n",
    "  errors.append([])\n",
    "  estimates.append([])\n",
    "  trajectory = generate_experience()\n",
    "  for alg in algs:\n",
    "    estimate = eval(alg)(**trajectory,\n",
    "                        v_fn=lambda s: random_v(iteration, s),\n",
    "                        trace_parameter=0.9)\n",
    "    errors[-1].append((estimate[0] - v0)**2)\n",
    "\n",
    "print(np.mean(errors, axis=0))\n",
    "plot_errors(plt.gca(), errors)"
   ]
  },
  {
   "cell_type": "markdown",
   "metadata": {
    "colab_type": "text",
    "id": "7hlc4jctHHqv"
   },
   "source": [
    "Above, the distributions of mean squared value errors are shown, with the mean as a big black dot and the (1,000) individual return samples as small black dots.\n",
    "\n",
    "### Q 4.2 [5 marks]\n",
    "Explain the ranking in terms of value error of the different return estimates.\n",
    "> *Full important sampling has largest variance among four off policy methods. Since behaviour policy has probability of 0.5 of choosing right while 0.9 in target policy. The actions selected are due to a highly different policy.* \n",
    "\n",
    "> *In per decision method, variance is reduced and when one step importance sampling ratio rou = 0,  the return will be 0 and estimate will shrink. But when control variates part is added, it will keep the return as the estimate and the estimate unchanged. Besides, control variates won't change the expectation of return. Control variates make senses because when importance sampling ratio being zero the sample should be ignore and don't update on the estimate. Thus control variates has lower error mean.*\n",
    "\n",
    "> *In adaptive bootstrapping, when rou > 1 the weight (1-lambda) of estimate at time t+1 decrease while weight (lambda) of G increase. When rou > 1, the action selected by behaviour policy is more frequently selected by target policy. It makes sense that we update more with this sample on the estimate when rou > 1. Thus adaptive bootstrapping perform best.*\n",
    "\n",
    "> *In online policy learning, the action is selected from target policy. Though less exploration, it generally works well.*\n",
    "\n",
    "### Q 4.3 [5 marks]\n",
    "Could there be a reason to **not** choose the best return according to this ranking when learning off-policy?  Explain your answer.\n",
    "\n",
    "> *When we use function approximation with the best return above, we will meet problem of deadly Triad.*"
   ]
  },
  {
   "cell_type": "code",
   "execution_count": 0,
   "metadata": {
    "colab": {},
    "colab_type": "code",
    "id": "69Ro9Co-Hb0A"
   },
   "outputs": [],
   "source": []
  }
 ],
 "metadata": {
  "colab": {
   "collapsed_sections": [],
   "name": "RL_assignment3_1.ipynb",
   "provenance": []
  },
  "kernelspec": {
   "display_name": "Python 3",
   "language": "python",
   "name": "python3"
  },
  "language_info": {
   "codemirror_mode": {
    "name": "ipython",
    "version": 3
   },
   "file_extension": ".py",
   "mimetype": "text/x-python",
   "name": "python",
   "nbconvert_exporter": "python",
   "pygments_lexer": "ipython3",
   "version": "3.7.3"
  }
 },
 "nbformat": 4,
 "nbformat_minor": 1
}
